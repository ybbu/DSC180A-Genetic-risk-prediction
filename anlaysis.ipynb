{
 "cells": [
  {
   "cell_type": "code",
   "execution_count": 278,
   "id": "66429b8b-956a-4f49-b0e3-78bdf9b2fe75",
   "metadata": {},
   "outputs": [],
   "source": [
    "import os\n",
    "import math\n",
    "import random\n",
    "import subprocess\n",
    "import numpy as np\n",
    "import pandas as pd\n",
    "import pandas_plink as ppl\n",
    "import statsmodels.api as sm\n",
    "import matplotlib.pyplot as plt\n",
    "#from sklearn.model_selection import train_test_split"
   ]
  },
  {
   "cell_type": "markdown",
   "id": "67e781db-8430-4faa-bbdb-78df052e4042",
   "metadata": {},
   "source": [
    "### scaled-up cis-eQTL for chromosome 21"
   ]
  },
  {
   "cell_type": "code",
   "execution_count": null,
   "id": "4fb6073d",
   "metadata": {},
   "outputs": [],
   "source": [
    "os.makedirs('ciseqtl_chr21', exist_ok=True)\n",
    "os.makedirs('APP_PRS', exist_ok=True)"
   ]
  },
  {
   "cell_type": "code",
   "execution_count": null,
   "id": "ec426bbe-432c-4ff5-b20d-a3d90fd48659",
   "metadata": {},
   "outputs": [],
   "source": [
    "# generate all coord txt\n",
    "gene_annot = pd.read_csv('data/gene_annot.txt', sep='\\t')\n",
    "gene_annot_21 = gene_annot[gene_annot['CHR'] == 21]\n",
    "\n",
    "for i, row in gene_annot_21.iterrows():\n",
    "    with open(f\"ciseqtl_chr21/coords/{row['ID']}_coords.txt\", 'w') as f:\n",
    "        f.write(f\"chr{row['CHR']}\\t{row['START']-500000}\\t{row['STOP']+500000}\\t{row['ID']}\\t0\\t+\\n\") # +- 500 kb"
   ]
  },
  {
   "cell_type": "code",
   "execution_count": 127,
   "id": "a7414b62-a74f-4f7c-8bfb-d9454da6610a",
   "metadata": {},
   "outputs": [
    {
     "name": "stdout",
     "output_type": "stream",
     "text": [
      "Error: No variants remaining after main filters.\n",
      "\n",
      "Error: No variants remaining after main filters.\n",
      "\n",
      "Error: No variants remaining after main filters.\n",
      "\n",
      "Error: No variants remaining after main filters.\n",
      "\n",
      "Error: No variants remaining after main filters.\n",
      "\n"
     ]
    }
   ],
   "source": [
    "# run plink2 for all genes\n",
    "for f in os.listdir('ciseqtl_chr21/coords'):\n",
    "    if f.endswith('_coords.txt'):\n",
    "        gene = f.split('_coords.txt')[0]\n",
    "        fp = os.path.join('ciseqtl_chr21/coords', f)\n",
    "        out_prefix = f'ciseqtl_chr21/snps/1000G.EUR.21.{gene}'\n",
    "        command = [\n",
    "            \"./plink2\", \n",
    "            \"--bfile\", \"LDREF/1000G.EUR.21\",\n",
    "            \"--extract\", \"bed1\", fp,\n",
    "            \"--out\", out_prefix,\n",
    "            \"--make-bed\"\n",
    "        ]\n",
    "        try:\n",
    "            result = subprocess.run(command, capture_output=True, text=True, check=True)\n",
    "            os.remove(f'ciseqtl_chr21/snps/1000G.EUR.21.{gene}.log')\n",
    "        except subprocess.CalledProcessError as e:\n",
    "            print(e.stderr)"
   ]
  },
  {
   "cell_type": "code",
   "execution_count": null,
   "id": "33937a60-8f13-447c-a5e6-0d2b6f26730a",
   "metadata": {},
   "outputs": [],
   "source": [
    "chr21_eqtl = []\n",
    "gene_exp = pd.read_csv('data/GD462.GeneQuantRPKM.50FN.samplename.resk10.txt', sep='\\t')"
   ]
  },
  {
   "cell_type": "code",
   "execution_count": null,
   "id": "009bbb83-db34-49c5-828e-839560ebc919",
   "metadata": {
    "scrolled": true
   },
   "outputs": [
    {
     "name": "stdout",
     "output_type": "stream",
     "text": [
      "SH3BGR\n"
     ]
    },
    {
     "name": "stderr",
     "output_type": "stream",
     "text": [
      "Mapping files: 100%|█████████████████████████████| 3/3 [00:00<00:00, 214.42it/s]\n"
     ]
    },
    {
     "name": "stdout",
     "output_type": "stream",
     "text": [
      "DYRK1A\n"
     ]
    },
    {
     "name": "stderr",
     "output_type": "stream",
     "text": [
      "Mapping files: 100%|█████████████████████████████| 3/3 [00:00<00:00, 440.10it/s]\n"
     ]
    },
    {
     "name": "stdout",
     "output_type": "stream",
     "text": [
      "MCM3AP-AS1\n"
     ]
    },
    {
     "name": "stderr",
     "output_type": "stream",
     "text": [
      "Mapping files: 100%|█████████████████████████████| 3/3 [00:00<00:00, 262.19it/s]\n"
     ]
    },
    {
     "name": "stdout",
     "output_type": "stream",
     "text": [
      "AGPAT3\n"
     ]
    },
    {
     "name": "stderr",
     "output_type": "stream",
     "text": [
      "Mapping files: 100%|█████████████████████████████| 3/3 [00:00<00:00, 331.76it/s]\n"
     ]
    },
    {
     "name": "stdout",
     "output_type": "stream",
     "text": [
      "ICOSLG\n"
     ]
    },
    {
     "name": "stderr",
     "output_type": "stream",
     "text": [
      "Mapping files: 100%|█████████████████████████████| 3/3 [00:00<00:00, 503.16it/s]\n"
     ]
    },
    {
     "name": "stdout",
     "output_type": "stream",
     "text": [
      "SUMO3\n"
     ]
    },
    {
     "name": "stderr",
     "output_type": "stream",
     "text": [
      "Mapping files: 100%|█████████████████████████████| 3/3 [00:00<00:00, 489.65it/s]\n"
     ]
    },
    {
     "name": "stdout",
     "output_type": "stream",
     "text": [
      "KRTAP21-1\n",
      "UBASH3A\n"
     ]
    },
    {
     "name": "stderr",
     "output_type": "stream",
     "text": [
      "Mapping files: 100%|█████████████████████████████| 3/3 [00:00<00:00, 439.06it/s]\n"
     ]
    },
    {
     "name": "stdout",
     "output_type": "stream",
     "text": [
      "C21orf140\n"
     ]
    },
    {
     "name": "stderr",
     "output_type": "stream",
     "text": [
      "Mapping files: 100%|█████████████████████████████| 3/3 [00:00<00:00, 337.77it/s]\n"
     ]
    },
    {
     "name": "stdout",
     "output_type": "stream",
     "text": [
      "PIGP\n"
     ]
    },
    {
     "name": "stderr",
     "output_type": "stream",
     "text": [
      "Mapping files: 100%|█████████████████████████████| 3/3 [00:00<00:00, 606.79it/s]\n"
     ]
    },
    {
     "name": "stdout",
     "output_type": "stream",
     "text": [
      "KRTAP23-1\n",
      "KRTAP8-1\n",
      "MRPS6\n"
     ]
    },
    {
     "name": "stderr",
     "output_type": "stream",
     "text": [
      "Mapping files: 100%|█████████████████████████████| 3/3 [00:00<00:00, 455.03it/s]\n"
     ]
    },
    {
     "name": "stdout",
     "output_type": "stream",
     "text": [
      "KRTAP21-3\n",
      "SSR4P1\n"
     ]
    },
    {
     "name": "stderr",
     "output_type": "stream",
     "text": [
      "Mapping files: 100%|█████████████████████████████| 3/3 [00:00<00:00, 438.03it/s]\n"
     ]
    },
    {
     "name": "stdout",
     "output_type": "stream",
     "text": [
      "DNAJC28\n"
     ]
    },
    {
     "name": "stderr",
     "output_type": "stream",
     "text": [
      "Mapping files: 100%|█████████████████████████████| 3/3 [00:00<00:00, 470.30it/s]\n"
     ]
    },
    {
     "name": "stdout",
     "output_type": "stream",
     "text": [
      "CLDN8\n",
      "MIR155HG\n"
     ]
    },
    {
     "name": "stderr",
     "output_type": "stream",
     "text": [
      "Mapping files: 100%|█████████████████████████████| 3/3 [00:00<00:00, 458.93it/s]\n"
     ]
    },
    {
     "name": "stdout",
     "output_type": "stream",
     "text": [
      "SPATC1L\n"
     ]
    },
    {
     "name": "stderr",
     "output_type": "stream",
     "text": [
      "Mapping files: 100%|█████████████████████████████| 3/3 [00:00<00:00, 468.90it/s]\n"
     ]
    },
    {
     "name": "stdout",
     "output_type": "stream",
     "text": [
      "PDXK\n"
     ]
    },
    {
     "name": "stderr",
     "output_type": "stream",
     "text": [
      "Mapping files: 100%|█████████████████████████████| 3/3 [00:00<00:00, 269.25it/s]\n"
     ]
    },
    {
     "name": "stdout",
     "output_type": "stream",
     "text": [
      "MIS18A\n"
     ]
    },
    {
     "name": "stderr",
     "output_type": "stream",
     "text": [
      "Mapping files: 100%|█████████████████████████████| 3/3 [00:00<00:00, 472.15it/s]\n"
     ]
    },
    {
     "name": "stdout",
     "output_type": "stream",
     "text": [
      "IGSF5\n",
      "BRWD1-AS1\n",
      "KRTAP21-2\n",
      "LRRC3-AS1\n",
      "DIP2A-IT1\n",
      "COL6A1\n"
     ]
    },
    {
     "name": "stderr",
     "output_type": "stream",
     "text": [
      "Mapping files: 100%|█████████████████████████████| 3/3 [00:00<00:00, 431.97it/s]\n"
     ]
    },
    {
     "name": "stdout",
     "output_type": "stream",
     "text": [
      "OLIG1\n"
     ]
    },
    {
     "name": "stderr",
     "output_type": "stream",
     "text": [
      "Mapping files: 100%|█████████████████████████████| 3/3 [00:00<00:00, 473.40it/s]\n"
     ]
    },
    {
     "name": "stdout",
     "output_type": "stream",
     "text": [
      "MIRLET7C\n",
      "MIR4327\n",
      "CLDN14\n"
     ]
    },
    {
     "name": "stderr",
     "output_type": "stream",
     "text": [
      "Mapping files: 100%|█████████████████████████████| 3/3 [00:00<00:00, 375.34it/s]\n"
     ]
    },
    {
     "name": "stdout",
     "output_type": "stream",
     "text": [
      "SETD4\n"
     ]
    },
    {
     "name": "stderr",
     "output_type": "stream",
     "text": [
      "Mapping files: 100%|█████████████████████████████| 3/3 [00:00<00:00, 260.14it/s]\n"
     ]
    },
    {
     "name": "stdout",
     "output_type": "stream",
     "text": [
      "C21orf91-OT1\n",
      "DSCAM-IT1\n",
      "RBM11\n"
     ]
    },
    {
     "name": "stderr",
     "output_type": "stream",
     "text": [
      "Mapping files: 100%|█████████████████████████████| 3/3 [00:00<00:00, 424.15it/s]\n"
     ]
    },
    {
     "name": "stdout",
     "output_type": "stream",
     "text": [
      "PCP4\n",
      "TMPRSS15\n",
      "TSPEAR\n",
      "KRTAP27-1\n",
      "NCAM2\n"
     ]
    },
    {
     "name": "stderr",
     "output_type": "stream",
     "text": [
      "Mapping files: 100%|█████████████████████████████| 3/3 [00:00<00:00, 331.27it/s]\n"
     ]
    },
    {
     "name": "stdout",
     "output_type": "stream",
     "text": [
      "RSPH1\n"
     ]
    },
    {
     "name": "stderr",
     "output_type": "stream",
     "text": [
      "Mapping files: 100%|█████████████████████████████| 3/3 [00:00<00:00, 243.53it/s]\n"
     ]
    },
    {
     "name": "stdout",
     "output_type": "stream",
     "text": [
      "COL6A2\n"
     ]
    },
    {
     "name": "stderr",
     "output_type": "stream",
     "text": [
      "Mapping files: 100%|█████████████████████████████| 3/3 [00:00<00:00, 328.48it/s]\n"
     ]
    },
    {
     "name": "stdout",
     "output_type": "stream",
     "text": [
      "KCNJ6\n",
      "HUNK\n"
     ]
    },
    {
     "name": "stderr",
     "output_type": "stream",
     "text": [
      "Mapping files: 100%|█████████████████████████████| 3/3 [00:00<00:00, 490.28it/s]\n"
     ]
    },
    {
     "name": "stdout",
     "output_type": "stream",
     "text": [
      "OLIG2\n",
      "B3GALT5\n",
      "CLDN17\n",
      "BRWD1\n"
     ]
    },
    {
     "name": "stderr",
     "output_type": "stream",
     "text": [
      "Mapping files: 100%|█████████████████████████████| 3/3 [00:00<00:00, 417.32it/s]\n"
     ]
    },
    {
     "name": "stdout",
     "output_type": "stream",
     "text": [
      "KRTAP25-1\n",
      "KRTAP10-8\n",
      "TMPRSS3\n"
     ]
    },
    {
     "name": "stderr",
     "output_type": "stream",
     "text": [
      "Mapping files: 100%|█████████████████████████████| 3/3 [00:00<00:00, 378.44it/s]\n"
     ]
    },
    {
     "name": "stdout",
     "output_type": "stream",
     "text": [
      "TMPRSS2\n"
     ]
    },
    {
     "name": "stderr",
     "output_type": "stream",
     "text": [
      "Mapping files: 100%|█████████████████████████████| 3/3 [00:00<00:00, 430.91it/s]\n"
     ]
    },
    {
     "name": "stdout",
     "output_type": "stream",
     "text": [
      "KRTAP10-9\n",
      "DONSON\n"
     ]
    },
    {
     "name": "stderr",
     "output_type": "stream",
     "text": [
      "Mapping files: 100%|█████████████████████████████| 3/3 [00:00<00:00, 372.48it/s]\n"
     ]
    },
    {
     "name": "stdout",
     "output_type": "stream",
     "text": [
      "COL18A1\n"
     ]
    },
    {
     "name": "stderr",
     "output_type": "stream",
     "text": [
      "Mapping files: 100%|█████████████████████████████| 3/3 [00:00<00:00, 537.25it/s]\n"
     ]
    },
    {
     "name": "stdout",
     "output_type": "stream",
     "text": [
      "GRIK1\n"
     ]
    },
    {
     "name": "stderr",
     "output_type": "stream",
     "text": [
      "Mapping files: 100%|█████████████████████████████| 3/3 [00:00<00:00, 437.97it/s]\n"
     ]
    },
    {
     "name": "stdout",
     "output_type": "stream",
     "text": [
      "FAM3B\n"
     ]
    },
    {
     "name": "stderr",
     "output_type": "stream",
     "text": [
      "Mapping files: 100%|█████████████████████████████| 3/3 [00:00<00:00, 409.16it/s]\n"
     ]
    },
    {
     "name": "stdout",
     "output_type": "stream",
     "text": [
      "ABCG1\n"
     ]
    },
    {
     "name": "stderr",
     "output_type": "stream",
     "text": [
      "Mapping files: 100%|█████████████████████████████| 3/3 [00:00<00:00, 372.58it/s]\n"
     ]
    },
    {
     "name": "stdout",
     "output_type": "stream",
     "text": [
      "LIPI\n"
     ]
    },
    {
     "name": "stderr",
     "output_type": "stream",
     "text": [
      "Mapping files: 100%|█████████████████████████████| 3/3 [00:00<00:00, 404.91it/s]\n"
     ]
    },
    {
     "name": "stdout",
     "output_type": "stream",
     "text": [
      "KRTAP20-3\n",
      "CBR1\n"
     ]
    },
    {
     "name": "stderr",
     "output_type": "stream",
     "text": [
      "Mapping files: 100%|█████████████████████████████| 3/3 [00:00<00:00, 431.48it/s]\n"
     ]
    },
    {
     "name": "stdout",
     "output_type": "stream",
     "text": [
      "PTTG1IP\n"
     ]
    },
    {
     "name": "stderr",
     "output_type": "stream",
     "text": [
      "Mapping files: 100%|█████████████████████████████| 3/3 [00:00<00:00, 664.32it/s]\n"
     ]
    },
    {
     "name": "stdout",
     "output_type": "stream",
     "text": [
      "COL18A1-AS2\n",
      "KRTAP22-1\n",
      "PRMT2\n"
     ]
    },
    {
     "name": "stderr",
     "output_type": "stream",
     "text": [
      "Mapping files: 100%|█████████████████████████████| 3/3 [00:00<00:00, 501.51it/s]\n"
     ]
    },
    {
     "name": "stdout",
     "output_type": "stream",
     "text": [
      "KRTAP19-7\n",
      "DIP2A\n"
     ]
    },
    {
     "name": "stderr",
     "output_type": "stream",
     "text": [
      "Mapping files: 100%|█████████████████████████████| 3/3 [00:00<00:00, 556.37it/s]\n"
     ]
    },
    {
     "name": "stdout",
     "output_type": "stream",
     "text": [
      "FAM207A\n"
     ]
    },
    {
     "name": "stderr",
     "output_type": "stream",
     "text": [
      "Mapping files: 100%|█████████████████████████████| 3/3 [00:00<00:00, 414.47it/s]\n"
     ]
    },
    {
     "name": "stdout",
     "output_type": "stream",
     "text": [
      "KRTAP19-6\n",
      "KRTAP20-2\n",
      "SAMSN1-AS1\n",
      "LINC00319\n",
      "USP16\n"
     ]
    },
    {
     "name": "stderr",
     "output_type": "stream",
     "text": [
      "Mapping files: 100%|█████████████████████████████| 3/3 [00:00<00:00, 333.26it/s]\n"
     ]
    },
    {
     "name": "stdout",
     "output_type": "stream",
     "text": [
      "SNP rs239602 has no variation, skipping.\n",
      "KCNJ15\n"
     ]
    },
    {
     "name": "stderr",
     "output_type": "stream",
     "text": [
      "Mapping files: 100%|█████████████████████████████| 3/3 [00:00<00:00, 358.17it/s]\n"
     ]
    },
    {
     "name": "stdout",
     "output_type": "stream",
     "text": [
      "SCAF4\n"
     ]
    },
    {
     "name": "stderr",
     "output_type": "stream",
     "text": [
      "Mapping files: 100%|█████████████████████████████| 3/3 [00:00<00:00, 368.42it/s]\n"
     ]
    },
    {
     "name": "stdout",
     "output_type": "stream",
     "text": [
      "DSCR3\n"
     ]
    },
    {
     "name": "stderr",
     "output_type": "stream",
     "text": [
      "Mapping files: 100%|█████████████████████████████| 3/3 [00:00<00:00, 450.85it/s]\n"
     ]
    },
    {
     "name": "stdout",
     "output_type": "stream",
     "text": [
      "RRP1B\n"
     ]
    },
    {
     "name": "stderr",
     "output_type": "stream",
     "text": [
      "Mapping files: 100%|█████████████████████████████| 3/3 [00:00<00:00, 273.10it/s]\n"
     ]
    },
    {
     "name": "stdout",
     "output_type": "stream",
     "text": [
      "KRTAP22-2\n",
      "COL18A1-AS1\n",
      "ERG\n",
      "KRTAP19-4\n",
      "BACH1\n"
     ]
    },
    {
     "name": "stderr",
     "output_type": "stream",
     "text": [
      "Mapping files: 100%|█████████████████████████████| 3/3 [00:00<00:00, 371.37it/s]\n"
     ]
    },
    {
     "name": "stdout",
     "output_type": "stream",
     "text": [
      "SNP rs239602 has no variation, skipping.\n",
      "POFUT2\n"
     ]
    },
    {
     "name": "stderr",
     "output_type": "stream",
     "text": [
      "Mapping files: 100%|█████████████████████████████| 3/3 [00:00<00:00, 431.84it/s]\n"
     ]
    },
    {
     "name": "stdout",
     "output_type": "stream",
     "text": [
      "KRTAP19-5\n",
      "WDR4\n"
     ]
    },
    {
     "name": "stderr",
     "output_type": "stream",
     "text": [
      "Mapping files: 100%|█████████████████████████████| 3/3 [00:00<00:00, 427.35it/s]\n"
     ]
    },
    {
     "name": "stdout",
     "output_type": "stream",
     "text": [
      "PRDM15\n"
     ]
    },
    {
     "name": "stderr",
     "output_type": "stream",
     "text": [
      "Mapping files: 100%|█████████████████████████████| 3/3 [00:00<00:00, 423.65it/s]\n"
     ]
    },
    {
     "name": "stdout",
     "output_type": "stream",
     "text": [
      "ABCC13\n",
      "URB1\n"
     ]
    },
    {
     "name": "stderr",
     "output_type": "stream",
     "text": [
      "Mapping files: 100%|█████████████████████████████| 3/3 [00:00<00:00, 428.15it/s]\n"
     ]
    },
    {
     "name": "stdout",
     "output_type": "stream",
     "text": [
      "SLC37A1\n"
     ]
    },
    {
     "name": "stderr",
     "output_type": "stream",
     "text": [
      "Mapping files: 100%|█████████████████████████████| 3/3 [00:00<00:00, 378.07it/s]\n"
     ]
    },
    {
     "name": "stdout",
     "output_type": "stream",
     "text": [
      "CBR3\n"
     ]
    },
    {
     "name": "stderr",
     "output_type": "stream",
     "text": [
      "Mapping files: 100%|█████████████████████████████| 3/3 [00:00<00:00, 437.33it/s]\n"
     ]
    },
    {
     "name": "stdout",
     "output_type": "stream",
     "text": [
      "KRTAP20-1\n",
      "PCNT\n"
     ]
    },
    {
     "name": "stderr",
     "output_type": "stream",
     "text": [
      "Mapping files: 100%|█████████████████████████████| 3/3 [00:00<00:00, 397.30it/s]\n"
     ]
    },
    {
     "name": "stdout",
     "output_type": "stream",
     "text": [
      "BAGE2\n"
     ]
    },
    {
     "name": "stderr",
     "output_type": "stream",
     "text": [
      "Mapping files: 100%|█████████████████████████████| 3/3 [00:00<00:00, 394.68it/s]\n"
     ]
    },
    {
     "name": "stdout",
     "output_type": "stream",
     "text": [
      "C21orf62\n"
     ]
    },
    {
     "name": "stderr",
     "output_type": "stream",
     "text": [
      "Mapping files: 100%|█████████████████████████████| 3/3 [00:00<00:00, 465.26it/s]\n"
     ]
    },
    {
     "name": "stdout",
     "output_type": "stream",
     "text": [
      "GART\n"
     ]
    },
    {
     "name": "stderr",
     "output_type": "stream",
     "text": [
      "Mapping files: 100%|█████████████████████████████| 3/3 [00:00<00:00, 371.80it/s]\n"
     ]
    },
    {
     "name": "stdout",
     "output_type": "stream",
     "text": [
      "KRTAP24-1\n",
      "LINC00322\n",
      "D21S2088E\n",
      "SNORA80A\n",
      "BTG3\n"
     ]
    },
    {
     "name": "stderr",
     "output_type": "stream",
     "text": [
      "Mapping files: 100%|█████████████████████████████| 3/3 [00:00<00:00, 379.51it/s]\n"
     ]
    },
    {
     "name": "stdout",
     "output_type": "stream",
     "text": [
      "CRYAA\n",
      "BACE2\n"
     ]
    },
    {
     "name": "stderr",
     "output_type": "stream",
     "text": [
      "Mapping files: 100%|█████████████████████████████| 3/3 [00:00<00:00, 430.83it/s]\n"
     ]
    },
    {
     "name": "stdout",
     "output_type": "stream",
     "text": [
      "MIR548X\n",
      "ITSN1\n"
     ]
    },
    {
     "name": "stderr",
     "output_type": "stream",
     "text": [
      "Mapping files: 100%|█████████████████████████████| 3/3 [00:00<00:00, 437.91it/s]\n"
     ]
    },
    {
     "name": "stdout",
     "output_type": "stream",
     "text": [
      "KRTAP19-1\n",
      "MORC3\n"
     ]
    },
    {
     "name": "stderr",
     "output_type": "stream",
     "text": [
      "Mapping files: 100%|█████████████████████████████| 3/3 [00:00<00:00, 375.67it/s]\n"
     ]
    },
    {
     "name": "stdout",
     "output_type": "stream",
     "text": [
      "KRTAP20-4\n",
      "KRTAP10-12\n",
      "LINC00323\n",
      "LINC00479\n",
      "PDE9A\n"
     ]
    },
    {
     "name": "stderr",
     "output_type": "stream",
     "text": [
      "Mapping files: 100%|█████████████████████████████| 3/3 [00:00<00:00, 373.41it/s]\n"
     ]
    },
    {
     "name": "stdout",
     "output_type": "stream",
     "text": [
      "C21orf59\n"
     ]
    },
    {
     "name": "stderr",
     "output_type": "stream",
     "text": [
      "Mapping files: 100%|█████████████████████████████| 3/3 [00:00<00:00, 512.06it/s]\n"
     ]
    },
    {
     "name": "stdout",
     "output_type": "stream",
     "text": [
      "KRTAP10-10\n",
      "SOD1\n"
     ]
    },
    {
     "name": "stderr",
     "output_type": "stream",
     "text": [
      "Mapping files: 100%|█████████████████████████████| 3/3 [00:00<00:00, 370.93it/s]\n"
     ]
    },
    {
     "name": "stdout",
     "output_type": "stream",
     "text": [
      "LCA5L\n"
     ]
    },
    {
     "name": "stderr",
     "output_type": "stream",
     "text": [
      "Mapping files: 100%|█████████████████████████████| 3/3 [00:00<00:00, 424.14it/s]\n"
     ]
    },
    {
     "name": "stdout",
     "output_type": "stream",
     "text": [
      "PFKL\n"
     ]
    },
    {
     "name": "stderr",
     "output_type": "stream",
     "text": [
      "Mapping files: 100%|█████████████████████████████| 3/3 [00:00<00:00, 320.65it/s]\n"
     ]
    },
    {
     "name": "stdout",
     "output_type": "stream",
     "text": [
      "HMGN1\n"
     ]
    },
    {
     "name": "stderr",
     "output_type": "stream",
     "text": [
      "Mapping files: 100%|█████████████████████████████| 3/3 [00:00<00:00, 339.94it/s]\n"
     ]
    },
    {
     "name": "stdout",
     "output_type": "stream",
     "text": [
      "KRTAP19-2\n",
      "KRTAP19-3\n",
      "MIR99A\n",
      "DSCR4\n",
      "U2AF1\n"
     ]
    },
    {
     "name": "stderr",
     "output_type": "stream",
     "text": [
      "Mapping files: 100%|█████████████████████████████| 3/3 [00:00<00:00, 437.96it/s]\n"
     ]
    },
    {
     "name": "stdout",
     "output_type": "stream",
     "text": [
      "KRTAP10-11\n",
      "CLIC6\n"
     ]
    },
    {
     "name": "stderr",
     "output_type": "stream",
     "text": [
      "Mapping files: 100%|█████████████████████████████| 3/3 [00:00<00:00, 510.19it/s]\n"
     ]
    },
    {
     "name": "stdout",
     "output_type": "stream",
     "text": [
      "SAMSN1\n"
     ]
    },
    {
     "name": "stderr",
     "output_type": "stream",
     "text": [
      "Mapping files: 100%|█████████████████████████████| 3/3 [00:00<00:00, 440.33it/s]\n"
     ]
    },
    {
     "name": "stdout",
     "output_type": "stream",
     "text": [
      "YBEY\n"
     ]
    },
    {
     "name": "stderr",
     "output_type": "stream",
     "text": [
      "Mapping files: 100%|█████████████████████████████| 3/3 [00:00<00:00, 429.30it/s]\n"
     ]
    },
    {
     "name": "stdout",
     "output_type": "stream",
     "text": [
      "LINC00320\n",
      "KRTAP26-1\n",
      "LINC00308\n",
      "C21orf58\n"
     ]
    },
    {
     "name": "stderr",
     "output_type": "stream",
     "text": [
      "Mapping files: 100%|█████████████████████████████| 3/3 [00:00<00:00, 522.65it/s]\n"
     ]
    },
    {
     "name": "stdout",
     "output_type": "stream",
     "text": [
      "RWDD2B\n"
     ]
    },
    {
     "name": "stderr",
     "output_type": "stream",
     "text": [
      "Mapping files: 100%|█████████████████████████████| 3/3 [00:00<00:00, 449.65it/s]\n"
     ]
    },
    {
     "name": "stdout",
     "output_type": "stream",
     "text": [
      "SNP rs239602 has no variation, skipping.\n",
      "CRYZL1\n"
     ]
    },
    {
     "name": "stderr",
     "output_type": "stream",
     "text": [
      "Mapping files: 100%|█████████████████████████████| 3/3 [00:00<00:00, 436.88it/s]\n"
     ]
    },
    {
     "name": "stdout",
     "output_type": "stream",
     "text": [
      "LINC00113\n",
      "MIR3197\n",
      "S100B\n",
      "RIPPLY3\n"
     ]
    },
    {
     "name": "stderr",
     "output_type": "stream",
     "text": [
      "Mapping files: 100%|█████████████████████████████| 3/3 [00:00<00:00, 435.80it/s]\n"
     ]
    },
    {
     "name": "stdout",
     "output_type": "stream",
     "text": [
      "CCT8\n"
     ]
    },
    {
     "name": "stderr",
     "output_type": "stream",
     "text": [
      "Mapping files: 100%|█████████████████████████████| 3/3 [00:00<00:00, 326.91it/s]\n"
     ]
    },
    {
     "name": "stdout",
     "output_type": "stream",
     "text": [
      "SNP rs239602 has no variation, skipping.\n",
      "MIR5692B\n",
      "DSCR9\n"
     ]
    },
    {
     "name": "stderr",
     "output_type": "stream",
     "text": [
      "Mapping files: 100%|█████████████████████████████| 3/3 [00:00<00:00, 382.58it/s]\n"
     ]
    },
    {
     "name": "stdout",
     "output_type": "stream",
     "text": [
      "BACH1-IT2\n",
      "NRIP1\n"
     ]
    },
    {
     "name": "stderr",
     "output_type": "stream",
     "text": [
      "Mapping files: 100%|█████████████████████████████| 3/3 [00:00<00:00, 470.14it/s]\n"
     ]
    },
    {
     "name": "stdout",
     "output_type": "stream",
     "text": [
      "MIR125B2\n",
      "ADARB1\n"
     ]
    },
    {
     "name": "stderr",
     "output_type": "stream",
     "text": [
      "Mapping files: 100%|█████████████████████████████| 3/3 [00:00<00:00, 368.46it/s]\n"
     ]
    },
    {
     "name": "stdout",
     "output_type": "stream",
     "text": [
      "IFNAR1\n"
     ]
    },
    {
     "name": "stderr",
     "output_type": "stream",
     "text": [
      "Mapping files: 100%|█████████████████████████████| 3/3 [00:00<00:00, 431.47it/s]\n"
     ]
    },
    {
     "name": "stdout",
     "output_type": "stream",
     "text": [
      "DSCR8\n",
      "SLC19A1\n"
     ]
    },
    {
     "name": "stderr",
     "output_type": "stream",
     "text": [
      "Mapping files: 100%|█████████████████████████████| 3/3 [00:00<00:00, 411.80it/s]\n"
     ]
    },
    {
     "name": "stdout",
     "output_type": "stream",
     "text": [
      "KRTAP13-4\n",
      "DSCR10\n",
      "DSCAM-AS1\n",
      "LINC00310\n"
     ]
    },
    {
     "name": "stderr",
     "output_type": "stream",
     "text": [
      "Mapping files: 100%|█████████████████████████████| 3/3 [00:00<00:00, 438.40it/s]\n"
     ]
    },
    {
     "name": "stdout",
     "output_type": "stream",
     "text": [
      "EVA1C\n",
      "LINC00112\n",
      "PSMG1\n"
     ]
    },
    {
     "name": "stderr",
     "output_type": "stream",
     "text": [
      "Mapping files: 100%|█████████████████████████████| 3/3 [00:00<00:00, 432.61it/s]\n"
     ]
    },
    {
     "name": "stdout",
     "output_type": "stream",
     "text": [
      "MAP3K7CL\n"
     ]
    },
    {
     "name": "stderr",
     "output_type": "stream",
     "text": [
      "Mapping files: 100%|█████████████████████████████| 3/3 [00:00<00:00, 300.85it/s]\n"
     ]
    },
    {
     "name": "stdout",
     "output_type": "stream",
     "text": [
      "SNP rs239602 has no variation, skipping.\n",
      "MIR4759\n",
      "FTCD\n"
     ]
    },
    {
     "name": "stderr",
     "output_type": "stream",
     "text": [
      "Mapping files: 100%|█████████████████████████████| 3/3 [00:00<00:00, 328.42it/s]\n"
     ]
    },
    {
     "name": "stdout",
     "output_type": "stream",
     "text": [
      "IFNAR2\n"
     ]
    },
    {
     "name": "stderr",
     "output_type": "stream",
     "text": [
      "Mapping files: 100%|█████████████████████████████| 3/3 [00:00<00:00, 438.60it/s]\n"
     ]
    },
    {
     "name": "stdout",
     "output_type": "stream",
     "text": [
      "TSPEAR-AS1\n",
      "ETS2\n"
     ]
    },
    {
     "name": "stderr",
     "output_type": "stream",
     "text": [
      "Mapping files: 100%|█████████████████████████████| 3/3 [00:00<00:00, 385.21it/s]\n"
     ]
    },
    {
     "name": "stdout",
     "output_type": "stream",
     "text": [
      "IL10RB\n"
     ]
    },
    {
     "name": "stderr",
     "output_type": "stream",
     "text": [
      "Mapping files: 100%|█████████████████████████████| 3/3 [00:00<00:00, 440.66it/s]\n"
     ]
    },
    {
     "name": "stdout",
     "output_type": "stream",
     "text": [
      "KRTAP15-1\n",
      "PCBP3\n"
     ]
    },
    {
     "name": "stderr",
     "output_type": "stream",
     "text": [
      "Mapping files: 100%|█████████████████████████████| 3/3 [00:00<00:00, 453.99it/s]\n"
     ]
    },
    {
     "name": "stdout",
     "output_type": "stream",
     "text": [
      "LINC00313\n",
      "LINC00307\n",
      "LINC00111\n",
      "KRTAP11-1\n",
      "KRTAP13-3\n",
      "JAM2\n"
     ]
    },
    {
     "name": "stderr",
     "output_type": "stream",
     "text": [
      "Mapping files: 100%|█████████████████████████████| 3/3 [00:00<00:00, 335.23it/s]\n"
     ]
    },
    {
     "name": "stdout",
     "output_type": "stream",
     "text": [
      "LINC00317\n",
      "LRRC3\n"
     ]
    },
    {
     "name": "stderr",
     "output_type": "stream",
     "text": [
      "Mapping files: 100%|█████████████████████████████| 3/3 [00:00<00:00, 468.53it/s]\n"
     ]
    },
    {
     "name": "stdout",
     "output_type": "stream",
     "text": [
      "APP\n"
     ]
    },
    {
     "name": "stderr",
     "output_type": "stream",
     "text": [
      "Mapping files: 100%|█████████████████████████████| 3/3 [00:00<00:00, 526.42it/s]\n"
     ]
    },
    {
     "name": "stdout",
     "output_type": "stream",
     "text": [
      "KRTAP19-8\n",
      "DNMT3L\n",
      "MRAP\n"
     ]
    },
    {
     "name": "stderr",
     "output_type": "stream",
     "text": [
      "Mapping files: 100%|█████████████████████████████| 3/3 [00:00<00:00, 512.56it/s]\n"
     ]
    },
    {
     "name": "stdout",
     "output_type": "stream",
     "text": [
      "CHODL\n"
     ]
    },
    {
     "name": "stderr",
     "output_type": "stream",
     "text": [
      "Mapping files: 100%|█████████████████████████████| 3/3 [00:00<00:00, 442.87it/s]\n"
     ]
    },
    {
     "name": "stdout",
     "output_type": "stream",
     "text": [
      "MIR4760\n",
      "RUNX1\n"
     ]
    },
    {
     "name": "stderr",
     "output_type": "stream",
     "text": [
      "Mapping files: 100%|█████████████████████████████| 3/3 [00:00<00:00, 426.74it/s]\n"
     ]
    },
    {
     "name": "stdout",
     "output_type": "stream",
     "text": [
      "PKNOX1\n"
     ]
    },
    {
     "name": "stderr",
     "output_type": "stream",
     "text": [
      "Mapping files: 100%|█████████████████████████████| 3/3 [00:00<00:00, 381.81it/s]\n"
     ]
    },
    {
     "name": "stdout",
     "output_type": "stream",
     "text": [
      "C21orf91\n"
     ]
    },
    {
     "name": "stderr",
     "output_type": "stream",
     "text": [
      "Mapping files: 100%|█████████████████████████████| 3/3 [00:00<00:00, 426.93it/s]\n"
     ]
    },
    {
     "name": "stdout",
     "output_type": "stream",
     "text": [
      "ZBTB21\n"
     ]
    },
    {
     "name": "stderr",
     "output_type": "stream",
     "text": [
      "Mapping files: 100%|█████████████████████████████| 3/3 [00:00<00:00, 337.12it/s]\n"
     ]
    },
    {
     "name": "stdout",
     "output_type": "stream",
     "text": [
      "LINC00316\n",
      "USP25\n"
     ]
    },
    {
     "name": "stderr",
     "output_type": "stream",
     "text": [
      "Mapping files: 100%|█████████████████████████████| 3/3 [00:00<00:00, 378.02it/s]\n"
     ]
    },
    {
     "name": "stdout",
     "output_type": "stream",
     "text": [
      "MIR802\n",
      "KRTAP13-2\n",
      "LINC00114\n",
      "HSF2BP\n"
     ]
    },
    {
     "name": "stderr",
     "output_type": "stream",
     "text": [
      "Mapping files: 100%|█████████████████████████████| 3/3 [00:00<00:00, 199.33it/s]\n"
     ]
    },
    {
     "name": "stdout",
     "output_type": "stream",
     "text": [
      "LINC00314\n",
      "PWP2\n"
     ]
    },
    {
     "name": "stderr",
     "output_type": "stream",
     "text": [
      "Mapping files: 100%|█████████████████████████████| 3/3 [00:00<00:00, 332.07it/s]\n"
     ]
    },
    {
     "name": "stdout",
     "output_type": "stream",
     "text": [
      "SIK1\n"
     ]
    },
    {
     "name": "stderr",
     "output_type": "stream",
     "text": [
      "Mapping files: 100%|█████████████████████████████| 3/3 [00:00<00:00, 375.84it/s]\n"
     ]
    },
    {
     "name": "stdout",
     "output_type": "stream",
     "text": [
      "MRPL39\n"
     ]
    },
    {
     "name": "stderr",
     "output_type": "stream",
     "text": [
      "Mapping files: 100%|█████████████████████████████| 3/3 [00:00<00:00, 375.14it/s]\n"
     ]
    },
    {
     "name": "stdout",
     "output_type": "stream",
     "text": [
      "TRPM2\n"
     ]
    },
    {
     "name": "stderr",
     "output_type": "stream",
     "text": [
      "Mapping files: 100%|█████████████████████████████| 3/3 [00:00<00:00, 376.88it/s]\n"
     ]
    },
    {
     "name": "stdout",
     "output_type": "stream",
     "text": [
      "SON\n"
     ]
    },
    {
     "name": "stderr",
     "output_type": "stream",
     "text": [
      "Mapping files: 100%|█████████████████████████████| 3/3 [00:00<00:00, 375.28it/s]\n"
     ]
    },
    {
     "name": "stdout",
     "output_type": "stream",
     "text": [
      "KRTAP13-1\n",
      "IFNGR2\n"
     ]
    },
    {
     "name": "stderr",
     "output_type": "stream",
     "text": [
      "Mapping files: 100%|█████████████████████████████| 3/3 [00:00<00:00, 430.60it/s]\n"
     ]
    },
    {
     "name": "stdout",
     "output_type": "stream",
     "text": [
      "LINC00158\n"
     ]
    },
    {
     "name": "stderr",
     "output_type": "stream",
     "text": [
      "Mapping files: 100%|█████████████████████████████| 3/3 [00:00<00:00, 336.25it/s]\n"
     ]
    },
    {
     "name": "stdout",
     "output_type": "stream",
     "text": [
      "IL10RB-AS1\n"
     ]
    },
    {
     "name": "stderr",
     "output_type": "stream",
     "text": [
      "Mapping files: 100%|█████████████████████████████| 3/3 [00:00<00:00, 439.62it/s]\n"
     ]
    },
    {
     "name": "stdout",
     "output_type": "stream",
     "text": [
      "MX2\n"
     ]
    },
    {
     "name": "stderr",
     "output_type": "stream",
     "text": [
      "Mapping files: 100%|█████████████████████████████| 3/3 [00:00<00:00, 450.10it/s]\n"
     ]
    },
    {
     "name": "stdout",
     "output_type": "stream",
     "text": [
      "ATP5O\n"
     ]
    },
    {
     "name": "stderr",
     "output_type": "stream",
     "text": [
      "Mapping files: 100%|█████████████████████████████| 3/3 [00:00<00:00, 436.68it/s]\n"
     ]
    },
    {
     "name": "stdout",
     "output_type": "stream",
     "text": [
      "C21orf2\n"
     ]
    },
    {
     "name": "stderr",
     "output_type": "stream",
     "text": [
      "Mapping files: 100%|█████████████████████████████| 3/3 [00:00<00:00, 428.76it/s]\n"
     ]
    },
    {
     "name": "stdout",
     "output_type": "stream",
     "text": [
      "TTC3\n"
     ]
    },
    {
     "name": "stderr",
     "output_type": "stream",
     "text": [
      "Mapping files: 100%|█████████████████████████████| 3/3 [00:00<00:00, 366.05it/s]\n"
     ]
    },
    {
     "name": "stdout",
     "output_type": "stream",
     "text": [
      "DSCAM\n",
      "LINC00945\n",
      "ADAMTS5\n",
      "ITGB2-AS1\n"
     ]
    },
    {
     "name": "stderr",
     "output_type": "stream",
     "text": [
      "Mapping files: 100%|█████████████████████████████| 3/3 [00:00<00:00, 377.36it/s]\n"
     ]
    },
    {
     "name": "stdout",
     "output_type": "stream",
     "text": [
      "KRTAP10-5\n",
      "RIPK4\n"
     ]
    },
    {
     "name": "stderr",
     "output_type": "stream",
     "text": [
      "Mapping files: 100%|█████████████████████████████| 3/3 [00:00<00:00, 338.37it/s]\n"
     ]
    },
    {
     "name": "stdout",
     "output_type": "stream",
     "text": [
      "TRPM2-AS\n"
     ]
    },
    {
     "name": "stderr",
     "output_type": "stream",
     "text": [
      "Mapping files: 100%|█████████████████████████████| 3/3 [00:00<00:00, 518.67it/s]\n"
     ]
    },
    {
     "name": "stdout",
     "output_type": "stream",
     "text": [
      "CBS\n"
     ]
    },
    {
     "name": "stderr",
     "output_type": "stream",
     "text": [
      "Mapping files: 100%|█████████████████████████████| 3/3 [00:00<00:00, 415.81it/s]\n"
     ]
    },
    {
     "name": "stdout",
     "output_type": "stream",
     "text": [
      "LINC00159\n",
      "MX1\n"
     ]
    },
    {
     "name": "stderr",
     "output_type": "stream",
     "text": [
      "Mapping files: 100%|█████████████████████████████| 3/3 [00:00<00:00, 427.41it/s]\n"
     ]
    },
    {
     "name": "stdout",
     "output_type": "stream",
     "text": [
      "ITGB2\n"
     ]
    },
    {
     "name": "stderr",
     "output_type": "stream",
     "text": [
      "Mapping files: 100%|█████████████████████████████| 3/3 [00:00<00:00, 447.36it/s]\n"
     ]
    },
    {
     "name": "stdout",
     "output_type": "stream",
     "text": [
      "PAXBP1-AS1\n"
     ]
    },
    {
     "name": "stderr",
     "output_type": "stream",
     "text": [
      "Mapping files: 100%|█████████████████████████████| 3/3 [00:00<00:00, 430.48it/s]\n"
     ]
    },
    {
     "name": "stdout",
     "output_type": "stream",
     "text": [
      "TRAPPC10\n"
     ]
    },
    {
     "name": "stderr",
     "output_type": "stream",
     "text": [
      "Mapping files: 100%|█████████████████████████████| 3/3 [00:00<00:00, 376.59it/s]\n"
     ]
    },
    {
     "name": "stdout",
     "output_type": "stream",
     "text": [
      "KRTAP10-6\n",
      "KRTAP12-4\n",
      "TIAM1\n"
     ]
    },
    {
     "name": "stderr",
     "output_type": "stream",
     "text": [
      "Mapping files: 100%|█████████████████████████████| 3/3 [00:00<00:00, 377.68it/s]\n"
     ]
    },
    {
     "name": "stdout",
     "output_type": "stream",
     "text": [
      "TCP10L\n"
     ]
    },
    {
     "name": "stderr",
     "output_type": "stream",
     "text": [
      "Mapping files: 100%|█████████████████████████████| 3/3 [00:00<00:00, 541.53it/s]\n"
     ]
    },
    {
     "name": "stdout",
     "output_type": "stream",
     "text": [
      "NDUFV3\n"
     ]
    },
    {
     "name": "stderr",
     "output_type": "stream",
     "text": [
      "Mapping files: 100%|█████████████████████████████| 3/3 [00:00<00:00, 424.34it/s]\n"
     ]
    },
    {
     "name": "stdout",
     "output_type": "stream",
     "text": [
      "CYYR1\n",
      "RCAN1\n"
     ]
    },
    {
     "name": "stderr",
     "output_type": "stream",
     "text": [
      "Mapping files: 100%|█████████████████████████████| 3/3 [00:00<00:00, 364.20it/s]\n"
     ]
    },
    {
     "name": "stdout",
     "output_type": "stream",
     "text": [
      "GRIK1-AS1\n",
      "CHAF1B\n"
     ]
    },
    {
     "name": "stderr",
     "output_type": "stream",
     "text": [
      "Mapping files: 100%|█████████████████████████████| 3/3 [00:00<00:00, 315.83it/s]\n"
     ]
    },
    {
     "name": "stdout",
     "output_type": "stream",
     "text": [
      "HLCS\n"
     ]
    },
    {
     "name": "stderr",
     "output_type": "stream",
     "text": [
      "Mapping files: 100%|█████████████████████████████| 3/3 [00:00<00:00, 432.34it/s]\n"
     ]
    },
    {
     "name": "stdout",
     "output_type": "stream",
     "text": [
      "LINC00189\n"
     ]
    },
    {
     "name": "stderr",
     "output_type": "stream",
     "text": [
      "Mapping files: 100%|█████████████████████████████| 3/3 [00:00<00:00, 385.49it/s]\n"
     ]
    },
    {
     "name": "stdout",
     "output_type": "stream",
     "text": [
      "SNP rs239602 has no variation, skipping.\n",
      "AIRE\n"
     ]
    },
    {
     "name": "stderr",
     "output_type": "stream",
     "text": [
      "Mapping files: 100%|█████████████████████████████| 3/3 [00:00<00:00, 373.72it/s]\n"
     ]
    },
    {
     "name": "stdout",
     "output_type": "stream",
     "text": [
      "KRTAP6-2\n",
      "N6AMT1\n"
     ]
    },
    {
     "name": "stderr",
     "output_type": "stream",
     "text": [
      "Mapping files: 100%|█████████████████████████████| 3/3 [00:00<00:00, 404.53it/s]\n"
     ]
    },
    {
     "name": "stdout",
     "output_type": "stream",
     "text": [
      "SNP rs239602 has no variation, skipping.\n",
      "KRTAP10-2\n",
      "CBR3-AS1\n"
     ]
    },
    {
     "name": "stderr",
     "output_type": "stream",
     "text": [
      "Mapping files: 100%|█████████████████████████████| 3/3 [00:00<00:00, 375.84it/s]\n"
     ]
    },
    {
     "name": "stdout",
     "output_type": "stream",
     "text": [
      "HSPA13\n"
     ]
    },
    {
     "name": "stderr",
     "output_type": "stream",
     "text": [
      "Mapping files: 100%|█████████████████████████████| 3/3 [00:00<00:00, 372.95it/s]\n"
     ]
    },
    {
     "name": "stdout",
     "output_type": "stream",
     "text": [
      "LSS\n"
     ]
    },
    {
     "name": "stderr",
     "output_type": "stream",
     "text": [
      "Mapping files: 100%|█████████████████████████████| 3/3 [00:00<00:00, 434.97it/s]\n"
     ]
    },
    {
     "name": "stdout",
     "output_type": "stream",
     "text": [
      "KRTAP10-3\n",
      "TFF1\n",
      "DOPEY2\n"
     ]
    },
    {
     "name": "stderr",
     "output_type": "stream",
     "text": [
      "Mapping files: 100%|█████████████████████████████| 3/3 [00:00<00:00, 311.98it/s]\n"
     ]
    },
    {
     "name": "stdout",
     "output_type": "stream",
     "text": [
      "UBE2G2\n"
     ]
    },
    {
     "name": "stderr",
     "output_type": "stream",
     "text": [
      "Mapping files: 100%|█████████████████████████████| 3/3 [00:00<00:00, 339.22it/s]\n"
     ]
    },
    {
     "name": "stdout",
     "output_type": "stream",
     "text": [
      "C2CD2\n"
     ]
    },
    {
     "name": "stderr",
     "output_type": "stream",
     "text": [
      "Mapping files: 100%|█████████████████████████████| 3/3 [00:00<00:00, 431.22it/s]\n"
     ]
    },
    {
     "name": "stdout",
     "output_type": "stream",
     "text": [
      "KRTAP12-1\n",
      "ZNF295-AS1\n"
     ]
    },
    {
     "name": "stderr",
     "output_type": "stream",
     "text": [
      "Mapping files: 100%|█████████████████████████████| 3/3 [00:00<00:00, 339.95it/s]\n"
     ]
    },
    {
     "name": "stdout",
     "output_type": "stream",
     "text": [
      "TMEM50B\n"
     ]
    },
    {
     "name": "stderr",
     "output_type": "stream",
     "text": [
      "Mapping files: 100%|█████████████████████████████| 3/3 [00:00<00:00, 444.50it/s]\n"
     ]
    },
    {
     "name": "stdout",
     "output_type": "stream",
     "text": [
      "KCNE2\n"
     ]
    },
    {
     "name": "stderr",
     "output_type": "stream",
     "text": [
      "Mapping files: 100%|█████████████████████████████| 3/3 [00:00<00:00, 337.13it/s]\n"
     ]
    },
    {
     "name": "stdout",
     "output_type": "stream",
     "text": [
      "KRTAP6-3\n",
      "LINC00163\n",
      "CXADR\n"
     ]
    },
    {
     "name": "stderr",
     "output_type": "stream",
     "text": [
      "Mapping files: 100%|█████████████████████████████| 3/3 [00:00<00:00, 432.89it/s]\n"
     ]
    },
    {
     "name": "stdout",
     "output_type": "stream",
     "text": [
      "LINC00161\n",
      "CHODL-AS1\n",
      "KRTAP6-1\n",
      "C21orf33\n"
     ]
    },
    {
     "name": "stderr",
     "output_type": "stream",
     "text": [
      "Mapping files: 100%|█████████████████████████████| 3/3 [00:00<00:00, 370.37it/s]\n"
     ]
    },
    {
     "name": "stdout",
     "output_type": "stream",
     "text": [
      "SIM2\n"
     ]
    },
    {
     "name": "stderr",
     "output_type": "stream",
     "text": [
      "Mapping files: 100%|█████████████████████████████| 3/3 [00:00<00:00, 374.96it/s]\n"
     ]
    },
    {
     "name": "stdout",
     "output_type": "stream",
     "text": [
      "KRTAP12-3\n",
      "ATP5J\n"
     ]
    },
    {
     "name": "stderr",
     "output_type": "stream",
     "text": [
      "Mapping files: 100%|█████████████████████████████| 3/3 [00:00<00:00, 330.66it/s]\n"
     ]
    },
    {
     "name": "stdout",
     "output_type": "stream",
     "text": [
      "UMODL1\n"
     ]
    },
    {
     "name": "stderr",
     "output_type": "stream",
     "text": [
      "Mapping files: 100%|█████████████████████████████| 3/3 [00:00<00:00, 186.66it/s]\n"
     ]
    },
    {
     "name": "stdout",
     "output_type": "stream",
     "text": [
      "WRB\n"
     ]
    },
    {
     "name": "stderr",
     "output_type": "stream",
     "text": [
      "Mapping files: 100%|█████████████████████████████| 3/3 [00:00<00:00, 469.84it/s]\n"
     ]
    },
    {
     "name": "stdout",
     "output_type": "stream",
     "text": [
      "GABPA\n"
     ]
    },
    {
     "name": "stderr",
     "output_type": "stream",
     "text": [
      "Mapping files: 100%|█████████████████████████████| 3/3 [00:00<00:00, 431.84it/s]\n"
     ]
    },
    {
     "name": "stdout",
     "output_type": "stream",
     "text": [
      "TFF3\n",
      "KRTAP10-1\n",
      "PAXBP1\n"
     ]
    },
    {
     "name": "stderr",
     "output_type": "stream",
     "text": [
      "Mapping files: 100%|█████████████████████████████| 3/3 [00:00<00:00, 407.00it/s]\n"
     ]
    },
    {
     "name": "stdout",
     "output_type": "stream",
     "text": [
      "ADAMTS1\n",
      "RRP1\n"
     ]
    },
    {
     "name": "stderr",
     "output_type": "stream",
     "text": [
      "Mapping files: 100%|█████████████████████████████| 3/3 [00:00<00:00, 409.85it/s]\n"
     ]
    },
    {
     "name": "stdout",
     "output_type": "stream",
     "text": [
      "TFF2\n",
      "LTN1\n"
     ]
    },
    {
     "name": "stderr",
     "output_type": "stream",
     "text": [
      "Mapping files: 100%|█████████████████████████████| 3/3 [00:00<00:00, 366.00it/s]\n"
     ]
    },
    {
     "name": "stdout",
     "output_type": "stream",
     "text": [
      "SNP rs239602 has no variation, skipping.\n",
      "KRTAP12-2\n",
      "CSTB\n"
     ]
    },
    {
     "name": "stderr",
     "output_type": "stream",
     "text": [
      "Mapping files: 100%|█████████████████████████████| 3/3 [00:00<00:00, 374.07it/s]\n"
     ]
    },
    {
     "name": "stdout",
     "output_type": "stream",
     "text": [
      "KCNE1\n",
      "SYNJ1\n"
     ]
    },
    {
     "name": "stderr",
     "output_type": "stream",
     "text": [
      "Mapping files: 100%|█████████████████████████████| 3/3 [00:00<00:00, 564.86it/s]\n"
     ]
    },
    {
     "name": "stdout",
     "output_type": "stream",
     "text": [
      "LINC00160\n",
      "MCM3AP\n"
     ]
    },
    {
     "name": "stderr",
     "output_type": "stream",
     "text": [
      "Mapping files: 100%|█████████████████████████████| 3/3 [00:00<00:00, 428.92it/s]\n"
     ]
    }
   ],
   "source": [
    "for f in os.listdir('ciseqtl_chr21/snps'):\n",
    "    if f.endswith('.bed'):\n",
    "        prefix = f.split('.bed')[0]\n",
    "        gene_ID = prefix.split('.')[-1]\n",
    "        print(gene_ID)\n",
    "        gene_SYM = gene_annot_21[gene_annot_21['ID']==gene_ID]['SYM'].iloc[0]\n",
    "        if gene_exp['TargetID'].str.startswith(gene_SYM).sum() > 0:\n",
    "            (bim, fam, bed) = ppl.read_plink(f'ciseqtl_chr21/snps/{prefix}')\n",
    "            fam_ids = fam['iid']\n",
    "            snps = []\n",
    "            y = []\n",
    "            for i, iid in enumerate(fam_ids):\n",
    "                if iid in gene_exp.columns:\n",
    "                    snps.append(bed.compute()[:, i])\n",
    "                    y.append(gene_exp[gene_exp['TargetID'].str.startswith(gene_SYM)][iid].iloc[0])\n",
    "            snps = np.array(snps)\n",
    "\n",
    "            for i in range(snps.shape[1]):\n",
    "                if np.all(snps[:, i] == snps[:, i][0]):\n",
    "                    print(f\"SNP {bim['snp'].iloc[i]} has no variation, skipping.\")\n",
    "                    continue\n",
    "                X = sm.add_constant(snps[:, i])\n",
    "                model = sm.OLS(y, X)\n",
    "                result = model.fit()\n",
    "                chr21_eqtl.append({'CHR': 21, 'BP': bim['pos'].iloc[i], 'REF': bim['a0'].iloc[i], \n",
    "                                 'ALT': bim['a1'].iloc[i], 'P': result.pvalues[1], 'BETA': result.params[1],\n",
    "                                'SE': result.bse[1], 'SNP': bim['snp'].iloc[i]}) "
   ]
  },
  {
   "cell_type": "code",
   "execution_count": 170,
   "id": "9754d69b-5595-4aa2-abf5-d0635c7859a8",
   "metadata": {},
   "outputs": [],
   "source": [
    "chr21_eqtl_df = pd.DataFrame(chr21_eqtl).sort_values(by=['CHR', 'BP'])\n",
    "chr21_eqtl_df.to_csv('ciseqtl_chr21/locuszoom.txt', sep='\\t', index=False)"
   ]
  },
  {
   "cell_type": "code",
   "execution_count": 184,
   "id": "eb0d117b-ed1b-4b8b-9bfc-d12c14ab66fc",
   "metadata": {},
   "outputs": [
    {
     "data": {
      "text/plain": [
       "12579"
      ]
     },
     "execution_count": 184,
     "metadata": {},
     "output_type": "execute_result"
    }
   ],
   "source": [
    "chr21_eqtl_df['SNP'].nunique()"
   ]
  },
  {
   "cell_type": "code",
   "execution_count": 280,
   "id": "fe3a0be3-4f7a-48b7-bd14-aa79937d9109",
   "metadata": {},
   "outputs": [
    {
     "ename": "TypeError",
     "evalue": "cannot convert the series to <class 'float'>",
     "output_type": "error",
     "traceback": [
      "\u001b[0;31m---------------------------------------------------------------------------\u001b[0m",
      "\u001b[0;31mTypeError\u001b[0m                                 Traceback (most recent call last)",
      "Cell \u001b[0;32mIn[280], line 1\u001b[0m\n\u001b[0;32m----> 1\u001b[0m plt\u001b[38;5;241m.\u001b[39mscatter(chr21_eqtl_df[\u001b[38;5;124m'\u001b[39m\u001b[38;5;124mBP\u001b[39m\u001b[38;5;124m'\u001b[39m], \u001b[38;5;241m-\u001b[39mmath\u001b[38;5;241m.\u001b[39mlog10(chr21_eqtl_df[\u001b[38;5;124m'\u001b[39m\u001b[38;5;124mP\u001b[39m\u001b[38;5;124m'\u001b[39m]))\n",
      "File \u001b[0;32m/opt/anaconda3/lib/python3.11/site-packages/pandas/core/series.py:248\u001b[0m, in \u001b[0;36m_coerce_method.<locals>.wrapper\u001b[0;34m(self)\u001b[0m\n\u001b[1;32m    240\u001b[0m     warnings\u001b[38;5;241m.\u001b[39mwarn(\n\u001b[1;32m    241\u001b[0m         \u001b[38;5;124mf\u001b[39m\u001b[38;5;124m\"\u001b[39m\u001b[38;5;124mCalling \u001b[39m\u001b[38;5;132;01m{\u001b[39;00mconverter\u001b[38;5;241m.\u001b[39m\u001b[38;5;18m__name__\u001b[39m\u001b[38;5;132;01m}\u001b[39;00m\u001b[38;5;124m on a single element Series is \u001b[39m\u001b[38;5;124m\"\u001b[39m\n\u001b[1;32m    242\u001b[0m         \u001b[38;5;124m\"\u001b[39m\u001b[38;5;124mdeprecated and will raise a TypeError in the future. \u001b[39m\u001b[38;5;124m\"\u001b[39m\n\u001b[0;32m   (...)\u001b[0m\n\u001b[1;32m    245\u001b[0m         stacklevel\u001b[38;5;241m=\u001b[39mfind_stack_level(),\n\u001b[1;32m    246\u001b[0m     )\n\u001b[1;32m    247\u001b[0m     \u001b[38;5;28;01mreturn\u001b[39;00m converter(\u001b[38;5;28mself\u001b[39m\u001b[38;5;241m.\u001b[39miloc[\u001b[38;5;241m0\u001b[39m])\n\u001b[0;32m--> 248\u001b[0m \u001b[38;5;28;01mraise\u001b[39;00m \u001b[38;5;167;01mTypeError\u001b[39;00m(\u001b[38;5;124mf\u001b[39m\u001b[38;5;124m\"\u001b[39m\u001b[38;5;124mcannot convert the series to \u001b[39m\u001b[38;5;132;01m{\u001b[39;00mconverter\u001b[38;5;132;01m}\u001b[39;00m\u001b[38;5;124m\"\u001b[39m)\n",
      "\u001b[0;31mTypeError\u001b[0m: cannot convert the series to <class 'float'>"
     ]
    }
   ],
   "source": [
    "plt.scatter(chr21_eqtl_df['BP'], -math.log10(chr21_eqtl_df['P']));"
   ]
  },
  {
   "cell_type": "markdown",
   "id": "14f0e289-146b-4e3d-8258-15972f26e5c2",
   "metadata": {},
   "source": [
    "### PRS model\n",
    "gene of interest: APP"
   ]
  },
  {
   "cell_type": "code",
   "execution_count": 262,
   "id": "a4abd892-90d0-444c-b27a-3400dedb503d",
   "metadata": {},
   "outputs": [
    {
     "name": "stdout",
     "output_type": "stream",
     "text": [
      "APP\n"
     ]
    },
    {
     "name": "stderr",
     "output_type": "stream",
     "text": [
      "Mapping files: 100%|█████████████████████████████| 3/3 [00:00<00:00, 291.15it/s]\n"
     ]
    }
   ],
   "source": [
    "sample_ids = []\n",
    "for f in os.listdir('ciseqtl_chr21/snps'):\n",
    "    if f.endswith('APP.bed'):\n",
    "        prefix = f.split('.bed')[0]\n",
    "        gene_ID = prefix.split('.')[-1]\n",
    "        print(gene_ID)\n",
    "        gene_SYM = gene_annot_21[gene_annot_21['ID']==gene_ID]['SYM'].iloc[0]\n",
    "        if gene_exp['TargetID'].str.startswith(gene_SYM).sum() > 0:\n",
    "            (bim, fam, bed) = ppl.read_plink(f'ciseqtl_chr21/snps/{prefix}')\n",
    "            fam_ids = fam['iid']\n",
    "            snps = []\n",
    "            y = []\n",
    "            for i, iid in enumerate(fam_ids):\n",
    "                if iid in gene_exp.columns:\n",
    "                    snps.append(bed.compute()[:, i])\n",
    "                    y.append(gene_exp[gene_exp['TargetID'].str.startswith(gene_SYM)][iid].iloc[0])\n",
    "                    sample_ids.append(iid)\n",
    "            snps = np.array(snps)"
   ]
  },
  {
   "cell_type": "code",
   "execution_count": 252,
   "id": "b6eb0792-a505-4e6f-be03-e7edc14f7430",
   "metadata": {},
   "outputs": [],
   "source": [
    "# random sample\n",
    "train_idx = random.sample(list(np.arange(len(y))), int(len(y) * 0.8))\n",
    "remaining_idxs = [idx for idx in list(np.arange(len(y))) if idx not in train_idx]\n",
    "val_idx = random.sample(remaining_idxs, len(remaining_idxs)//2)\n",
    "test_idx = [idx for idx in remaining_idxs if idx not in val_idx]"
   ]
  },
  {
   "cell_type": "code",
   "execution_count": 253,
   "id": "bc6c32ca-3364-4b3d-befc-7ada8f855660",
   "metadata": {},
   "outputs": [],
   "source": [
    "app_eqtl_train = []\n",
    "snps_train = snps[train_idx, :]\n",
    "y_train = np.array(y)[train_idx]\n",
    "mdl = LinearRegression()\n",
    "for i in range(snps_train.shape[1]):\n",
    "    if np.all(snps_train[:, i] == snps_train[:, i][0]):\n",
    "        print(f\"SNP {bim['snp'].iloc[i]} has no variation, skipping.\")\n",
    "        continue\n",
    "    X = sm.add_constant(snps_train[:, i])\n",
    "    model = sm.OLS(y_train, X)\n",
    "    result = model.fit()\n",
    "    app_eqtl_train.append({'CHR': 21, 'BP': bim['pos'].iloc[i], 'REF': bim['a0'].iloc[i], \n",
    "                     'ALT': bim['a1'].iloc[i], 'P': result.pvalues[1], 'BETA': result.params[1],\n",
    "                    'SE': result.bse[1], 'SNP': bim['snp'].iloc[i]}) \n",
    "app_eqtl_df_train = pd.DataFrame(app_eqtl_train)\n",
    "app_eqtl_df_train.to_csv('APP_PRS/eqtl_train.txt', sep='\\t', index=False)"
   ]
  },
  {
   "cell_type": "code",
   "execution_count": 281,
   "id": "9fdeab76-381f-4852-a567-eccafa7a5b58",
   "metadata": {},
   "outputs": [
    {
     "data": {
      "text/html": [
       "<div>\n",
       "<style scoped>\n",
       "    .dataframe tbody tr th:only-of-type {\n",
       "        vertical-align: middle;\n",
       "    }\n",
       "\n",
       "    .dataframe tbody tr th {\n",
       "        vertical-align: top;\n",
       "    }\n",
       "\n",
       "    .dataframe thead th {\n",
       "        text-align: right;\n",
       "    }\n",
       "</style>\n",
       "<table border=\"1\" class=\"dataframe\">\n",
       "  <thead>\n",
       "    <tr style=\"text-align: right;\">\n",
       "      <th></th>\n",
       "      <th>CHR</th>\n",
       "      <th>BP</th>\n",
       "      <th>REF</th>\n",
       "      <th>ALT</th>\n",
       "      <th>P</th>\n",
       "      <th>BETA</th>\n",
       "      <th>SE</th>\n",
       "      <th>SNP</th>\n",
       "    </tr>\n",
       "  </thead>\n",
       "  <tbody>\n",
       "    <tr>\n",
       "      <th>0</th>\n",
       "      <td>21</td>\n",
       "      <td>25382128</td>\n",
       "      <td>T</td>\n",
       "      <td>C</td>\n",
       "      <td>0.220652</td>\n",
       "      <td>1.972576</td>\n",
       "      <td>1.606845</td>\n",
       "      <td>rs2828696</td>\n",
       "    </tr>\n",
       "    <tr>\n",
       "      <th>1</th>\n",
       "      <td>21</td>\n",
       "      <td>25382268</td>\n",
       "      <td>T</td>\n",
       "      <td>C</td>\n",
       "      <td>0.302136</td>\n",
       "      <td>1.663308</td>\n",
       "      <td>1.608899</td>\n",
       "      <td>rs2828697</td>\n",
       "    </tr>\n",
       "    <tr>\n",
       "      <th>2</th>\n",
       "      <td>21</td>\n",
       "      <td>25382938</td>\n",
       "      <td>C</td>\n",
       "      <td>T</td>\n",
       "      <td>0.634707</td>\n",
       "      <td>0.785753</td>\n",
       "      <td>1.651968</td>\n",
       "      <td>rs7275309</td>\n",
       "    </tr>\n",
       "    <tr>\n",
       "      <th>3</th>\n",
       "      <td>21</td>\n",
       "      <td>25382976</td>\n",
       "      <td>G</td>\n",
       "      <td>A</td>\n",
       "      <td>0.746291</td>\n",
       "      <td>-0.877380</td>\n",
       "      <td>2.709123</td>\n",
       "      <td>rs928794</td>\n",
       "    </tr>\n",
       "    <tr>\n",
       "      <th>4</th>\n",
       "      <td>21</td>\n",
       "      <td>25383259</td>\n",
       "      <td>T</td>\n",
       "      <td>C</td>\n",
       "      <td>0.485747</td>\n",
       "      <td>1.152201</td>\n",
       "      <td>1.650625</td>\n",
       "      <td>rs9979626</td>\n",
       "    </tr>\n",
       "    <tr>\n",
       "      <th>...</th>\n",
       "      <td>...</td>\n",
       "      <td>...</td>\n",
       "      <td>...</td>\n",
       "      <td>...</td>\n",
       "      <td>...</td>\n",
       "      <td>...</td>\n",
       "      <td>...</td>\n",
       "      <td>...</td>\n",
       "    </tr>\n",
       "    <tr>\n",
       "      <th>623</th>\n",
       "      <td>21</td>\n",
       "      <td>26662736</td>\n",
       "      <td>A</td>\n",
       "      <td>G</td>\n",
       "      <td>0.662604</td>\n",
       "      <td>-0.648922</td>\n",
       "      <td>1.485640</td>\n",
       "      <td>rs2829680</td>\n",
       "    </tr>\n",
       "    <tr>\n",
       "      <th>624</th>\n",
       "      <td>21</td>\n",
       "      <td>26665558</td>\n",
       "      <td>A</td>\n",
       "      <td>G</td>\n",
       "      <td>0.687600</td>\n",
       "      <td>0.608014</td>\n",
       "      <td>1.510434</td>\n",
       "      <td>rs6516661</td>\n",
       "    </tr>\n",
       "    <tr>\n",
       "      <th>625</th>\n",
       "      <td>21</td>\n",
       "      <td>26666834</td>\n",
       "      <td>T</td>\n",
       "      <td>C</td>\n",
       "      <td>0.454197</td>\n",
       "      <td>-1.449973</td>\n",
       "      <td>1.934569</td>\n",
       "      <td>rs2829684</td>\n",
       "    </tr>\n",
       "    <tr>\n",
       "      <th>626</th>\n",
       "      <td>21</td>\n",
       "      <td>26669324</td>\n",
       "      <td>A</td>\n",
       "      <td>G</td>\n",
       "      <td>0.687600</td>\n",
       "      <td>0.608014</td>\n",
       "      <td>1.510434</td>\n",
       "      <td>rs2829686</td>\n",
       "    </tr>\n",
       "    <tr>\n",
       "      <th>627</th>\n",
       "      <td>21</td>\n",
       "      <td>26669398</td>\n",
       "      <td>T</td>\n",
       "      <td>C</td>\n",
       "      <td>0.207776</td>\n",
       "      <td>2.735908</td>\n",
       "      <td>2.166720</td>\n",
       "      <td>rs17778646</td>\n",
       "    </tr>\n",
       "  </tbody>\n",
       "</table>\n",
       "<p>628 rows × 8 columns</p>\n",
       "</div>"
      ],
      "text/plain": [
       "     CHR        BP REF ALT         P      BETA        SE         SNP\n",
       "0     21  25382128   T   C  0.220652  1.972576  1.606845   rs2828696\n",
       "1     21  25382268   T   C  0.302136  1.663308  1.608899   rs2828697\n",
       "2     21  25382938   C   T  0.634707  0.785753  1.651968   rs7275309\n",
       "3     21  25382976   G   A  0.746291 -0.877380  2.709123    rs928794\n",
       "4     21  25383259   T   C  0.485747  1.152201  1.650625   rs9979626\n",
       "..   ...       ...  ..  ..       ...       ...       ...         ...\n",
       "623   21  26662736   A   G  0.662604 -0.648922  1.485640   rs2829680\n",
       "624   21  26665558   A   G  0.687600  0.608014  1.510434   rs6516661\n",
       "625   21  26666834   T   C  0.454197 -1.449973  1.934569   rs2829684\n",
       "626   21  26669324   A   G  0.687600  0.608014  1.510434   rs2829686\n",
       "627   21  26669398   T   C  0.207776  2.735908  2.166720  rs17778646\n",
       "\n",
       "[628 rows x 8 columns]"
      ]
     },
     "execution_count": 281,
     "metadata": {},
     "output_type": "execute_result"
    }
   ],
   "source": [
    "app_eqtl_df_train"
   ]
  },
  {
   "cell_type": "code",
   "execution_count": 266,
   "id": "86517b02-d084-445f-ad94-adff19d4f3c6",
   "metadata": {},
   "outputs": [],
   "source": [
    "train_samples = [sample_ids[idx] for idx in train_idx]\n",
    "with open(\"APP_PRS/train_samples.txt\", \"w\") as f:\n",
    "    for sample in train_samples:\n",
    "        f.write(f\"{sample} {sample}\\n\")"
   ]
  },
  {
   "cell_type": "code",
   "execution_count": 268,
   "id": "6c3fb49d-d485-43bf-ad56-0ab6fe04cac9",
   "metadata": {
    "scrolled": true
   },
   "outputs": [],
   "source": [
    "val_samples = [sample_ids[idx] for idx in val_idx]\n",
    "with open(\"APP_PRS/val_samples.txt\", \"w\") as f:\n",
    "    for sample in val_samples:\n",
    "        f.write(f\"{sample} {sample}\\n\")"
   ]
  },
  {
   "cell_type": "code",
   "execution_count": 269,
   "id": "4c3bea69-3d23-4d51-873b-d9f17cb81b16",
   "metadata": {},
   "outputs": [],
   "source": [
    "test_samples = [sample_ids[idx] for idx in test_idx]\n",
    "with open(\"APP_PRS/test_samples.txt\", \"w\") as f:\n",
    "    for sample in test_samples:\n",
    "        f.write(f\"{sample} {sample}\\n\")"
   ]
  },
  {
   "cell_type": "code",
   "execution_count": null,
   "id": "d8132a16-8141-4630-b3fb-42082a621c46",
   "metadata": {},
   "outputs": [],
   "source": []
  }
 ],
 "metadata": {
  "kernelspec": {
   "display_name": "Python 3 (ipykernel)",
   "language": "python",
   "name": "python3"
  },
  "language_info": {
   "codemirror_mode": {
    "name": "ipython",
    "version": 3
   },
   "file_extension": ".py",
   "mimetype": "text/x-python",
   "name": "python",
   "nbconvert_exporter": "python",
   "pygments_lexer": "ipython3",
   "version": "3.11.7"
  }
 },
 "nbformat": 4,
 "nbformat_minor": 5
}
