{
 "cells": [
  {
   "cell_type": "markdown",
   "id": "dcabab11",
   "metadata": {},
   "source": [
    "## Set up"
   ]
  },
  {
   "cell_type": "code",
   "execution_count": null,
   "id": "66429b8b-956a-4f49-b0e3-78bdf9b2fe75",
   "metadata": {},
   "outputs": [
    {
     "name": "stdout",
     "output_type": "stream",
     "text": [
      "All packages imported successfully!\n"
     ]
    }
   ],
   "source": [
    "# Check if all required packages are successfully imported\n",
    "try:\n",
    "    import os\n",
    "    import random\n",
    "    import subprocess\n",
    "    import numpy as np\n",
    "    import pandas as pd\n",
    "    import pandas_plink as ppl\n",
    "    import statsmodels.api as sm\n",
    "    import matplotlib.pyplot as plt\n",
    "    print(\"All packages imported successfully!\")\n",
    "except ImportError as e:\n",
    "    print(f\"ImportError: {e}. Please follow the steps in the README to set up the environment correctly.\")"
   ]
  },
  {
   "cell_type": "markdown",
   "id": "2927350c",
   "metadata": {},
   "source": [
    "Create a temporary folder to store all unzipped files and intermediate outputs throughout the analysis"
   ]
  },
  {
   "cell_type": "code",
   "execution_count": 2,
   "id": "90029147",
   "metadata": {},
   "outputs": [],
   "source": [
    "%%bash\n",
    "mkdir -p temp_dir \n",
    "gunzip -c data/GD462.GeneQuantRPKM.50FN.samplename.resk10.txt.gz > temp_dir/GD462.GeneQuantRPKM.50FN.samplename.resk10.txt\n",
    "gunzip -c data/gene_annot.txt.gz > temp_dir/gene_annot.txt"
   ]
  },
  {
   "cell_type": "markdown",
   "id": "932c8949",
   "metadata": {},
   "source": [
    "## Analysis"
   ]
  },
  {
   "cell_type": "markdown",
   "id": "71b83c0d",
   "metadata": {},
   "source": [
    "### run cis-eQTL analysis\n",
    "In this section, I will perform a cis-eQTL analysis for all protein coding genes on chromosome 1-22 using 1000 Genome data (stored in the `data/LDREF` folder)"
   ]
  },
  {
   "cell_type": "markdown",
   "id": "cca0008b",
   "metadata": {},
   "source": [
    "#### extract bed"
   ]
  },
  {
   "cell_type": "code",
   "execution_count": 14,
   "id": "6ffda70c",
   "metadata": {},
   "outputs": [],
   "source": [
    "%%bash\n",
    "mkdir -p temp_dir/eqtl\n",
    "mkdir -p temp_dir/eqtl/locs\n",
    "mkdir -p temp_dir/eqtl/plink_files"
   ]
  },
  {
   "cell_type": "code",
   "execution_count": 15,
   "id": "eb4f5d02",
   "metadata": {},
   "outputs": [],
   "source": [
    "gene_annot = pd.read_csv('temp_dir/gene_annot.txt', sep='\\t')\n",
    "genes = gene_annot[gene_annot['TYPE'] == 'protein_coding'] # keep only protein coding genes"
   ]
  },
  {
   "cell_type": "code",
   "execution_count": 16,
   "id": "8868df02",
   "metadata": {},
   "outputs": [],
   "source": [
    "genes_15 = genes[genes['CHR'] == 15] # only include chromosome 15"
   ]
  },
  {
   "cell_type": "code",
   "execution_count": 17,
   "id": "9401d0c0",
   "metadata": {},
   "outputs": [],
   "source": [
    "# generate coordinate files for each gene\n",
    "for i, row in genes_15.iterrows():\n",
    "    with open(f\"temp_dir/eqtl/locs/{row['CHR']}_{row['ID']}_coords.txt\", 'w') as f:\n",
    "        f.write(f\"chr{row['CHR']}\\t{row['START']-500000}\\t{row['STOP']+500000}\\t{row['ID']}\\t0\\t+\\n\") # +- 500 kb 'cis'"
   ]
  },
  {
   "cell_type": "markdown",
   "id": "6cc3fe4d",
   "metadata": {},
   "source": [
    "Now I will use **PLINK2** to extract the BED file for each gene.  \n",
    "Please ensure that **PLINK2** is installed and executable in the GitHub directory.\n",
    "\n",
    "- **Execution Time:**  \n",
    "  There are approximately 20,000 genes, so this make take a few minutes to run.\n",
    "\n",
    "- **Output Suppression:**  \n",
    "  To keep the output concise, I have suppressed all PLINK output, as it can be quite lengthy.\n",
    "\n",
    "- **Potential Errors:**  \n",
    "  1. You may encounter the error:  \n",
    "     **`No variants remaining after main filters.`**  \n",
    "     This is completely normal and indicates that there are no SNPs associated with those genes.\n",
    "  2. You may also encounter the error:  \n",
    "     **`Invalid range...`**  \n",
    "     This occurs for genes located near the ends of chromosomes, where there are insufficient SNPs in the flanking regions. \n",
    "     \n",
    "For now, I will exclude all such genes, as we have many genes to analyze.\n"
   ]
  },
  {
   "cell_type": "code",
   "execution_count": 18,
   "id": "1e5fac15",
   "metadata": {},
   "outputs": [],
   "source": [
    "input_dir = \"temp_dir/eqtl/locs\"\n",
    "output_dir = \"temp_dir/eqtl/plink_files\"\n",
    "plink_executable = \"./plink2\"\n",
    "\n",
    "for f in os.listdir(input_dir):\n",
    "    if f.endswith('_coords.txt'):\n",
    "        gene = f.split('_')[1]\n",
    "        chr = f.split('_')[0]\n",
    "        input_file = os.path.join(input_dir, f)\n",
    "        output_file = os.path.join(output_dir, f\"1000G.EUR.{chr}.{gene}\")\n",
    "        plink_command = [\n",
    "            plink_executable,\n",
    "            \"--bfile\", f\"data/LDREF/1000G.EUR.{chr}\",\n",
    "            \"--extract\", \"bed1\", input_file,\n",
    "            \"--out\", output_file,\n",
    "            \"--make-bed\"\n",
    "        ]\n",
    "        try:\n",
    "            subprocess.run(plink_command, stdout=subprocess.DEVNULL, stderr=subprocess.PIPE, check=True)\n",
    "        except subprocess.CalledProcessError as e:\n",
    "            print(f\"{gene}: {e.stderr.decode()}\")"
   ]
  },
  {
   "cell_type": "markdown",
   "id": "973ecedc",
   "metadata": {},
   "source": [
    "#### find overlapping data"
   ]
  },
  {
   "cell_type": "code",
   "execution_count": 19,
   "id": "d825e45d",
   "metadata": {},
   "outputs": [],
   "source": [
    "gene_exp = pd.read_csv('temp_dir/GD462.GeneQuantRPKM.50FN.samplename.resk10.txt', sep='\\t')\n",
    "gene_exp['SYM'] = gene_exp['Gene_Symbol'].apply(lambda x: x.split('.')[0])\n",
    "gene_exp_genes = gene_exp['SYM'].tolist()"
   ]
  },
  {
   "cell_type": "code",
   "execution_count": 20,
   "id": "fcefe060",
   "metadata": {},
   "outputs": [
    {
     "name": "stderr",
     "output_type": "stream",
     "text": [
      "Mapping files: 100%|██████████| 3/3 [00:00<00:00, 10.57it/s]\n"
     ]
    }
   ],
   "source": [
    "# The samples in the gene expression data do not exactly match those in the genome data from the 1000 Genomes Project. Therefore, we will do some additional cleaning\n",
    "(bim, fam, bed) = ppl.read_plink(f'data/LDREF/1000G.EUR.15')\n",
    "overlap_idx_genome = np.where(np.isin(fam['iid'], gene_exp.columns))[0]\n",
    "gene_exp_overlap = gene_exp[['TargetID', 'Gene_Symbol', 'Chr', 'Coord', 'SYM'] + list(fam['iid'].to_numpy()[overlap_idx_genome])]\n",
    "\n",
    "# Similarly, some genes are missing from the gene expression data. Identifying those missing genes...\n",
    "missing_genes = [genes_15[genes_15['SYM'] == g]['ID'].iloc[0] for g in genes_15['SYM'] if g not in gene_exp_genes]\n"
   ]
  },
  {
   "cell_type": "markdown",
   "id": "de3e6af0",
   "metadata": {},
   "source": [
    "#### cis-eQTL - run"
   ]
  },
  {
   "cell_type": "code",
   "execution_count": 21,
   "id": "92e4a3cc",
   "metadata": {},
   "outputs": [],
   "source": [
    "%%bash\n",
    "mkdir -p result # a folder for final results\n",
    "mkdir -p result/eqtl"
   ]
  },
  {
   "cell_type": "code",
   "execution_count": 23,
   "id": "018c5d43",
   "metadata": {},
   "outputs": [
    {
     "name": "stderr",
     "output_type": "stream",
     "text": [
      "Mapping files: 100%|██████████| 3/3 [00:00<00:00, 104.64it/s]\n",
      "Mapping files: 100%|██████████| 3/3 [00:00<00:00, 153.65it/s]\n",
      "Mapping files: 100%|██████████| 3/3 [00:00<00:00, 152.61it/s]\n",
      "Mapping files: 100%|██████████| 3/3 [00:00<00:00, 177.46it/s]\n",
      "Mapping files: 100%|██████████| 3/3 [00:00<00:00, 275.81it/s]\n",
      "Mapping files: 100%|██████████| 3/3 [00:00<00:00, 135.39it/s]\n",
      "Mapping files: 100%|██████████| 3/3 [00:00<00:00, 265.62it/s]\n",
      "Mapping files: 100%|██████████| 3/3 [00:00<00:00, 227.82it/s]\n",
      "Mapping files: 100%|██████████| 3/3 [00:00<00:00, 146.01it/s]\n",
      "Mapping files: 100%|██████████| 3/3 [00:00<00:00, 217.52it/s]\n",
      "Mapping files: 100%|██████████| 3/3 [00:00<00:00, 185.59it/s]\n",
      "Mapping files: 100%|██████████| 3/3 [00:00<00:00, 169.26it/s]\n",
      "Mapping files: 100%|██████████| 3/3 [00:00<00:00, 141.25it/s]\n",
      "Mapping files: 100%|██████████| 3/3 [00:00<00:00, 154.94it/s]\n",
      "Mapping files: 100%|██████████| 3/3 [00:00<00:00, 176.47it/s]\n",
      "Mapping files: 100%|██████████| 3/3 [00:00<00:00, 162.19it/s]\n",
      "Mapping files: 100%|██████████| 3/3 [00:00<00:00, 180.49it/s]\n",
      "Mapping files: 100%|██████████| 3/3 [00:00<00:00, 167.93it/s]\n",
      "Mapping files: 100%|██████████| 3/3 [00:00<00:00, 152.94it/s]\n",
      "Mapping files: 100%|██████████| 3/3 [00:00<00:00, 145.29it/s]\n",
      "Mapping files: 100%|██████████| 3/3 [00:00<00:00, 133.76it/s]\n",
      "Mapping files: 100%|██████████| 3/3 [00:00<00:00, 131.36it/s]\n",
      "Mapping files: 100%|██████████| 3/3 [00:00<00:00, 178.25it/s]\n",
      "Mapping files: 100%|██████████| 3/3 [00:00<00:00, 140.75it/s]\n",
      "Mapping files: 100%|██████████| 3/3 [00:00<00:00, 151.11it/s]\n",
      "Mapping files: 100%|██████████| 3/3 [00:00<00:00, 174.01it/s]\n",
      "Mapping files: 100%|██████████| 3/3 [00:00<00:00, 162.20it/s]\n",
      "Mapping files: 100%|██████████| 3/3 [00:00<00:00, 143.82it/s]\n",
      "Mapping files: 100%|██████████| 3/3 [00:00<00:00, 219.80it/s]\n",
      "Mapping files: 100%|██████████| 3/3 [00:00<00:00, 63.78it/s]\n",
      "Mapping files: 100%|██████████| 3/3 [00:00<00:00, 186.04it/s]\n",
      "Mapping files: 100%|██████████| 3/3 [00:00<00:00, 223.08it/s]\n",
      "Mapping files: 100%|██████████| 3/3 [00:00<00:00, 226.29it/s]\n",
      "Mapping files: 100%|██████████| 3/3 [00:00<00:00, 214.10it/s]\n",
      "Mapping files: 100%|██████████| 3/3 [00:00<00:00, 132.54it/s]\n",
      "Mapping files: 100%|██████████| 3/3 [00:00<00:00, 182.96it/s]\n",
      "Mapping files: 100%|██████████| 3/3 [00:00<00:00, 190.39it/s]\n",
      "Mapping files: 100%|██████████| 3/3 [00:00<00:00, 189.60it/s]\n",
      "Mapping files: 100%|██████████| 3/3 [00:00<00:00, 161.06it/s]\n",
      "Mapping files: 100%|██████████| 3/3 [00:00<00:00, 189.84it/s]\n",
      "Mapping files: 100%|██████████| 3/3 [00:00<00:00, 187.66it/s]\n",
      "Mapping files: 100%|██████████| 3/3 [00:00<00:00, 165.15it/s]\n",
      "Mapping files: 100%|██████████| 3/3 [00:00<00:00, 206.47it/s]\n",
      "Mapping files: 100%|██████████| 3/3 [00:00<00:00, 155.53it/s]\n",
      "Mapping files: 100%|██████████| 3/3 [00:00<00:00, 113.93it/s]\n",
      "Mapping files: 100%|██████████| 3/3 [00:00<00:00, 166.58it/s]\n",
      "Mapping files: 100%|██████████| 3/3 [00:00<00:00, 149.34it/s]\n",
      "Mapping files: 100%|██████████| 3/3 [00:00<00:00, 119.67it/s]\n",
      "Mapping files: 100%|██████████| 3/3 [00:00<00:00, 165.87it/s]\n",
      "Mapping files: 100%|██████████| 3/3 [00:00<00:00, 135.91it/s]\n",
      "Mapping files: 100%|██████████| 3/3 [00:00<00:00, 172.20it/s]\n",
      "Mapping files: 100%|██████████| 3/3 [00:00<00:00, 141.99it/s]\n",
      "Mapping files: 100%|██████████| 3/3 [00:00<00:00, 111.25it/s]\n",
      "Mapping files: 100%|██████████| 3/3 [00:00<00:00, 142.59it/s]\n",
      "Mapping files: 100%|██████████| 3/3 [00:00<00:00, 155.97it/s]\n",
      "Mapping files: 100%|██████████| 3/3 [00:00<00:00, 219.73it/s]\n",
      "Mapping files: 100%|██████████| 3/3 [00:00<00:00, 110.91it/s]\n",
      "Mapping files: 100%|██████████| 3/3 [00:00<00:00, 169.92it/s]\n",
      "Mapping files: 100%|██████████| 3/3 [00:00<00:00, 145.20it/s]\n",
      "Mapping files: 100%|██████████| 3/3 [00:00<00:00, 182.47it/s]\n",
      "Mapping files: 100%|██████████| 3/3 [00:00<00:00, 168.13it/s]\n",
      "Mapping files: 100%|██████████| 3/3 [00:00<00:00, 140.02it/s]\n",
      "Mapping files: 100%|██████████| 3/3 [00:00<00:00, 160.28it/s]\n",
      "Mapping files: 100%|██████████| 3/3 [00:00<00:00, 118.73it/s]\n",
      "Mapping files: 100%|██████████| 3/3 [00:00<00:00, 121.69it/s]\n",
      "Mapping files: 100%|██████████| 3/3 [00:00<00:00, 171.36it/s]\n",
      "Mapping files: 100%|██████████| 3/3 [00:00<00:00, 159.19it/s]\n",
      "Mapping files: 100%|██████████| 3/3 [00:00<00:00, 220.93it/s]\n",
      "Mapping files: 100%|██████████| 3/3 [00:00<00:00, 171.08it/s]\n",
      "Mapping files: 100%|██████████| 3/3 [00:00<00:00, 174.49it/s]\n",
      "Mapping files: 100%|██████████| 3/3 [00:00<00:00, 150.00it/s]\n",
      "Mapping files: 100%|██████████| 3/3 [00:00<00:00, 223.46it/s]\n",
      "Mapping files: 100%|██████████| 3/3 [00:00<00:00, 240.26it/s]\n",
      "Mapping files: 100%|██████████| 3/3 [00:00<00:00, 254.51it/s]\n",
      "Mapping files: 100%|██████████| 3/3 [00:00<00:00, 319.02it/s]\n",
      "Mapping files: 100%|██████████| 3/3 [00:00<00:00, 332.21it/s]\n",
      "Mapping files: 100%|██████████| 3/3 [00:00<00:00, 308.74it/s]\n",
      "Mapping files: 100%|██████████| 3/3 [00:00<00:00, 287.24it/s]\n",
      "Mapping files: 100%|██████████| 3/3 [00:00<00:00, 214.15it/s]\n",
      "Mapping files: 100%|██████████| 3/3 [00:00<00:00, 378.41it/s]\n",
      "Mapping files: 100%|██████████| 3/3 [00:00<00:00, 354.91it/s]\n",
      "Mapping files: 100%|██████████| 3/3 [00:00<00:00, 357.95it/s]\n",
      "Mapping files: 100%|██████████| 3/3 [00:00<00:00, 388.76it/s]\n",
      "Mapping files: 100%|██████████| 3/3 [00:00<00:00, 301.65it/s]\n",
      "Mapping files: 100%|██████████| 3/3 [00:00<00:00, 315.73it/s]\n",
      "Mapping files: 100%|██████████| 3/3 [00:00<00:00, 317.43it/s]\n",
      "Mapping files: 100%|██████████| 3/3 [00:00<00:00, 335.54it/s]\n",
      "Mapping files: 100%|██████████| 3/3 [00:00<00:00, 309.19it/s]\n",
      "Mapping files: 100%|██████████| 3/3 [00:00<00:00, 292.19it/s]\n",
      "Mapping files: 100%|██████████| 3/3 [00:00<00:00, 322.99it/s]\n",
      "Mapping files: 100%|██████████| 3/3 [00:00<00:00, 225.13it/s]\n",
      "Mapping files: 100%|██████████| 3/3 [00:00<00:00, 297.12it/s]\n",
      "Mapping files: 100%|██████████| 3/3 [00:00<00:00, 287.55it/s]\n",
      "Mapping files: 100%|██████████| 3/3 [00:00<00:00, 273.85it/s]\n",
      "Mapping files: 100%|██████████| 3/3 [00:00<00:00, 329.14it/s]\n",
      "Mapping files: 100%|██████████| 3/3 [00:00<00:00, 134.11it/s]\n",
      "Mapping files: 100%|██████████| 3/3 [00:00<00:00, 331.14it/s]\n",
      "Mapping files: 100%|██████████| 3/3 [00:00<00:00, 335.00it/s]\n",
      "Mapping files: 100%|██████████| 3/3 [00:00<00:00, 366.92it/s]\n",
      "Mapping files: 100%|██████████| 3/3 [00:00<00:00, 338.83it/s]\n",
      "Mapping files: 100%|██████████| 3/3 [00:00<00:00, 202.38it/s]\n",
      "Mapping files: 100%|██████████| 3/3 [00:00<00:00, 315.23it/s]\n",
      "Mapping files: 100%|██████████| 3/3 [00:00<00:00, 326.19it/s]\n",
      "Mapping files: 100%|██████████| 3/3 [00:00<00:00, 307.07it/s]\n",
      "Mapping files: 100%|██████████| 3/3 [00:00<00:00, 314.56it/s]\n",
      "Mapping files: 100%|██████████| 3/3 [00:00<00:00, 312.24it/s]\n",
      "Mapping files: 100%|██████████| 3/3 [00:00<00:00, 298.83it/s]\n",
      "Mapping files: 100%|██████████| 3/3 [00:00<00:00, 90.58it/s]\n",
      "Mapping files: 100%|██████████| 3/3 [00:00<00:00, 317.79it/s]\n",
      "Mapping files: 100%|██████████| 3/3 [00:00<00:00, 228.76it/s]\n",
      "Mapping files: 100%|██████████| 3/3 [00:00<00:00, 381.17it/s]\n",
      "Mapping files: 100%|██████████| 3/3 [00:00<00:00, 288.68it/s]\n",
      "Mapping files: 100%|██████████| 3/3 [00:00<00:00, 356.56it/s]\n",
      "Mapping files: 100%|██████████| 3/3 [00:00<00:00, 231.05it/s]\n",
      "Mapping files: 100%|██████████| 3/3 [00:00<00:00, 266.31it/s]\n",
      "Mapping files: 100%|██████████| 3/3 [00:00<00:00, 368.05it/s]\n",
      "Mapping files: 100%|██████████| 3/3 [00:00<00:00, 296.30it/s]\n",
      "Mapping files: 100%|██████████| 3/3 [00:00<00:00, 306.90it/s]\n",
      "Mapping files: 100%|██████████| 3/3 [00:00<00:00, 366.93it/s]\n",
      "Mapping files: 100%|██████████| 3/3 [00:00<00:00, 347.31it/s]\n",
      "Mapping files: 100%|██████████| 3/3 [00:00<00:00, 334.55it/s]\n",
      "Mapping files: 100%|██████████| 3/3 [00:00<00:00, 372.39it/s]\n",
      "Mapping files: 100%|██████████| 3/3 [00:00<00:00, 286.09it/s]\n",
      "Mapping files: 100%|██████████| 3/3 [00:00<00:00, 264.20it/s]\n",
      "Mapping files: 100%|██████████| 3/3 [00:00<00:00, 199.14it/s]\n",
      "Mapping files: 100%|██████████| 3/3 [00:00<00:00, 261.09it/s]\n",
      "Mapping files: 100%|██████████| 3/3 [00:00<00:00, 216.84it/s]\n",
      "Mapping files: 100%|██████████| 3/3 [00:00<00:00, 121.17it/s]\n",
      "Mapping files: 100%|██████████| 3/3 [00:00<00:00, 193.62it/s]\n",
      "Mapping files: 100%|██████████| 3/3 [00:00<00:00, 257.05it/s]\n",
      "Mapping files: 100%|██████████| 3/3 [00:00<00:00, 255.71it/s]\n",
      "Mapping files: 100%|██████████| 3/3 [00:00<00:00, 331.02it/s]\n",
      "Mapping files: 100%|██████████| 3/3 [00:00<00:00, 302.12it/s]\n",
      "Mapping files: 100%|██████████| 3/3 [00:00<00:00, 102.41it/s]\n",
      "Mapping files: 100%|██████████| 3/3 [00:00<00:00, 113.14it/s]\n",
      "Mapping files: 100%|██████████| 3/3 [00:00<00:00, 292.39it/s]\n",
      "Mapping files: 100%|██████████| 3/3 [00:00<00:00, 343.14it/s]\n",
      "Mapping files: 100%|██████████| 3/3 [00:00<00:00, 381.15it/s]\n",
      "Mapping files: 100%|██████████| 3/3 [00:00<00:00, 154.80it/s]\n",
      "Mapping files: 100%|██████████| 3/3 [00:00<00:00, 332.42it/s]\n",
      "Mapping files: 100%|██████████| 3/3 [00:00<00:00, 264.62it/s]\n",
      "Mapping files: 100%|██████████| 3/3 [00:00<00:00, 378.02it/s]\n",
      "Mapping files: 100%|██████████| 3/3 [00:00<00:00, 301.99it/s]\n",
      "Mapping files: 100%|██████████| 3/3 [00:00<00:00, 285.80it/s]\n",
      "Mapping files: 100%|██████████| 3/3 [00:00<00:00, 187.30it/s]\n",
      "Mapping files: 100%|██████████| 3/3 [00:00<00:00, 354.90it/s]\n",
      "Mapping files: 100%|██████████| 3/3 [00:00<00:00, 275.98it/s]\n",
      "Mapping files: 100%|██████████| 3/3 [00:00<00:00, 269.54it/s]\n",
      "Mapping files: 100%|██████████| 3/3 [00:00<00:00, 327.37it/s]\n",
      "Mapping files: 100%|██████████| 3/3 [00:00<00:00, 327.40it/s]\n",
      "Mapping files: 100%|██████████| 3/3 [00:00<00:00, 250.75it/s]\n",
      "Mapping files: 100%|██████████| 3/3 [00:00<00:00, 343.29it/s]\n",
      "Mapping files: 100%|██████████| 3/3 [00:00<00:00, 250.25it/s]\n",
      "Mapping files: 100%|██████████| 3/3 [00:00<00:00, 335.37it/s]\n",
      "Mapping files: 100%|██████████| 3/3 [00:00<00:00, 171.22it/s]\n",
      "Mapping files: 100%|██████████| 3/3 [00:00<00:00, 301.42it/s]\n",
      "Mapping files: 100%|██████████| 3/3 [00:00<00:00, 366.53it/s]\n",
      "Mapping files: 100%|██████████| 3/3 [00:00<00:00, 310.81it/s]\n",
      "Mapping files: 100%|██████████| 3/3 [00:00<00:00, 298.48it/s]\n",
      "Mapping files: 100%|██████████| 3/3 [00:00<00:00, 293.66it/s]\n",
      "Mapping files: 100%|██████████| 3/3 [00:00<00:00, 332.29it/s]\n",
      "Mapping files: 100%|██████████| 3/3 [00:00<00:00, 328.95it/s]\n",
      "Mapping files: 100%|██████████| 3/3 [00:00<00:00, 295.83it/s]\n",
      "Mapping files: 100%|██████████| 3/3 [00:00<00:00, 313.25it/s]\n",
      "Mapping files: 100%|██████████| 3/3 [00:00<00:00, 291.46it/s]\n",
      "Mapping files: 100%|██████████| 3/3 [00:00<00:00, 329.12it/s]\n",
      "Mapping files: 100%|██████████| 3/3 [00:00<00:00, 334.97it/s]\n",
      "Mapping files: 100%|██████████| 3/3 [00:00<00:00, 343.96it/s]\n",
      "Mapping files: 100%|██████████| 3/3 [00:00<00:00, 351.32it/s]\n",
      "Mapping files: 100%|██████████| 3/3 [00:00<00:00, 335.51it/s]\n",
      "Mapping files: 100%|██████████| 3/3 [00:00<00:00, 340.52it/s]\n",
      "Mapping files: 100%|██████████| 3/3 [00:00<00:00, 345.06it/s]\n",
      "Mapping files: 100%|██████████| 3/3 [00:00<00:00, 171.70it/s]\n",
      "Mapping files: 100%|██████████| 3/3 [00:00<00:00, 204.76it/s]\n",
      "Mapping files: 100%|██████████| 3/3 [00:00<00:00, 326.08it/s]\n",
      "Mapping files: 100%|██████████| 3/3 [00:00<00:00, 295.05it/s]\n",
      "Mapping files: 100%|██████████| 3/3 [00:00<00:00, 256.50it/s]\n",
      "Mapping files: 100%|██████████| 3/3 [00:00<00:00, 286.89it/s]\n",
      "Mapping files: 100%|██████████| 3/3 [00:00<00:00, 357.69it/s]\n",
      "Mapping files: 100%|██████████| 3/3 [00:00<00:00, 291.64it/s]\n",
      "Mapping files: 100%|██████████| 3/3 [00:00<00:00, 320.81it/s]\n",
      "Mapping files: 100%|██████████| 3/3 [00:00<00:00, 297.50it/s]\n",
      "Mapping files: 100%|██████████| 3/3 [00:00<00:00, 364.84it/s]\n",
      "Mapping files: 100%|██████████| 3/3 [00:00<00:00, 287.52it/s]\n",
      "Mapping files: 100%|██████████| 3/3 [00:00<00:00, 354.91it/s]\n",
      "Mapping files: 100%|██████████| 3/3 [00:00<00:00, 299.16it/s]\n",
      "Mapping files: 100%|██████████| 3/3 [00:00<00:00, 299.17it/s]\n",
      "Mapping files: 100%|██████████| 3/3 [00:00<00:00, 346.09it/s]\n",
      "Mapping files: 100%|██████████| 3/3 [00:00<00:00, 295.39it/s]\n",
      "Mapping files: 100%|██████████| 3/3 [00:00<00:00, 305.00it/s]\n",
      "Mapping files: 100%|██████████| 3/3 [00:00<00:00, 333.74it/s]\n",
      "Mapping files: 100%|██████████| 3/3 [00:00<00:00, 78.09it/s]\n",
      "Mapping files: 100%|██████████| 3/3 [00:00<00:00, 326.44it/s]\n",
      "Mapping files: 100%|██████████| 3/3 [00:00<00:00, 300.54it/s]\n",
      "Mapping files: 100%|██████████| 3/3 [00:00<00:00, 272.58it/s]\n",
      "Mapping files: 100%|██████████| 3/3 [00:00<00:00, 330.54it/s]\n",
      "Mapping files: 100%|██████████| 3/3 [00:00<00:00, 371.20it/s]\n",
      "Mapping files: 100%|██████████| 3/3 [00:00<00:00, 263.59it/s]\n",
      "Mapping files: 100%|██████████| 3/3 [00:00<00:00, 297.56it/s]\n",
      "Mapping files: 100%|██████████| 3/3 [00:00<00:00, 243.60it/s]\n",
      "Mapping files: 100%|██████████| 3/3 [00:00<00:00, 292.80it/s]\n",
      "Mapping files: 100%|██████████| 3/3 [00:00<00:00, 345.18it/s]\n",
      "Mapping files: 100%|██████████| 3/3 [00:00<00:00, 344.35it/s]\n",
      "Mapping files: 100%|██████████| 3/3 [00:00<00:00, 316.65it/s]\n",
      "Mapping files: 100%|██████████| 3/3 [00:00<00:00, 286.12it/s]\n",
      "Mapping files: 100%|██████████| 3/3 [00:00<00:00, 296.35it/s]\n",
      "Mapping files: 100%|██████████| 3/3 [00:00<00:00, 326.05it/s]\n",
      "Mapping files: 100%|██████████| 3/3 [00:00<00:00, 262.72it/s]\n",
      "Mapping files: 100%|██████████| 3/3 [00:00<00:00, 289.10it/s]\n",
      "Mapping files: 100%|██████████| 3/3 [00:00<00:00, 330.87it/s]\n",
      "Mapping files: 100%|██████████| 3/3 [00:00<00:00, 290.16it/s]\n",
      "Mapping files: 100%|██████████| 3/3 [00:00<00:00, 329.03it/s]\n",
      "Mapping files: 100%|██████████| 3/3 [00:00<00:00, 388.64it/s]\n",
      "Mapping files: 100%|██████████| 3/3 [00:00<00:00, 291.00it/s]\n",
      "Mapping files: 100%|██████████| 3/3 [00:00<00:00, 352.35it/s]\n",
      "Mapping files: 100%|██████████| 3/3 [00:00<00:00, 299.71it/s]\n",
      "Mapping files: 100%|██████████| 3/3 [00:00<00:00, 335.20it/s]\n",
      "Mapping files: 100%|██████████| 3/3 [00:00<00:00, 334.86it/s]\n",
      "Mapping files: 100%|██████████| 3/3 [00:00<00:00, 342.93it/s]\n",
      "Mapping files: 100%|██████████| 3/3 [00:00<00:00, 344.83it/s]\n",
      "Mapping files: 100%|██████████| 3/3 [00:00<00:00, 334.12it/s]\n",
      "Mapping files: 100%|██████████| 3/3 [00:00<00:00, 282.65it/s]\n",
      "Mapping files: 100%|██████████| 3/3 [00:00<00:00, 283.07it/s]\n",
      "Mapping files: 100%|██████████| 3/3 [00:00<00:00, 354.28it/s]\n",
      "Mapping files: 100%|██████████| 3/3 [00:00<00:00, 275.99it/s]\n",
      "Mapping files: 100%|██████████| 3/3 [00:00<00:00, 270.32it/s]\n",
      "Mapping files: 100%|██████████| 3/3 [00:00<00:00, 324.91it/s]\n",
      "Mapping files: 100%|██████████| 3/3 [00:00<00:00, 328.02it/s]\n",
      "Mapping files: 100%|██████████| 3/3 [00:00<00:00, 332.42it/s]\n",
      "Mapping files: 100%|██████████| 3/3 [00:00<00:00, 426.93it/s]\n",
      "Mapping files: 100%|██████████| 3/3 [00:00<00:00, 277.85it/s]\n",
      "Mapping files: 100%|██████████| 3/3 [00:00<00:00, 262.56it/s]\n",
      "Mapping files: 100%|██████████| 3/3 [00:00<00:00, 343.57it/s]\n",
      "Mapping files: 100%|██████████| 3/3 [00:00<00:00, 310.18it/s]\n",
      "Mapping files: 100%|██████████| 3/3 [00:00<00:00, 338.30it/s]\n",
      "Mapping files: 100%|██████████| 3/3 [00:00<00:00, 278.65it/s]\n",
      "Mapping files: 100%|██████████| 3/3 [00:00<00:00, 274.93it/s]\n",
      "Mapping files: 100%|██████████| 3/3 [00:00<00:00, 302.63it/s]\n",
      "Mapping files: 100%|██████████| 3/3 [00:00<00:00, 382.69it/s]\n",
      "Mapping files: 100%|██████████| 3/3 [00:00<00:00, 368.55it/s]\n",
      "Mapping files: 100%|██████████| 3/3 [00:00<00:00, 344.31it/s]\n",
      "Mapping files: 100%|██████████| 3/3 [00:00<00:00, 22.47it/s]\n",
      "Mapping files: 100%|██████████| 3/3 [00:00<00:00, 360.40it/s]\n",
      "Mapping files: 100%|██████████| 3/3 [00:00<00:00, 319.66it/s]\n",
      "Mapping files: 100%|██████████| 3/3 [00:00<00:00, 334.10it/s]\n",
      "Mapping files: 100%|██████████| 3/3 [00:00<00:00, 286.64it/s]\n",
      "Mapping files: 100%|██████████| 3/3 [00:00<00:00, 327.02it/s]\n",
      "Mapping files: 100%|██████████| 3/3 [00:00<00:00, 308.86it/s]\n",
      "Mapping files: 100%|██████████| 3/3 [00:00<00:00, 326.24it/s]\n",
      "Mapping files: 100%|██████████| 3/3 [00:00<00:00, 330.90it/s]\n",
      "Mapping files: 100%|██████████| 3/3 [00:00<00:00, 257.14it/s]\n",
      "Mapping files: 100%|██████████| 3/3 [00:00<00:00, 346.98it/s]\n",
      "Mapping files: 100%|██████████| 3/3 [00:00<00:00, 252.46it/s]\n",
      "Mapping files: 100%|██████████| 3/3 [00:00<00:00, 314.69it/s]\n",
      "Mapping files: 100%|██████████| 3/3 [00:00<00:00, 375.80it/s]\n",
      "Mapping files: 100%|██████████| 3/3 [00:00<00:00, 311.26it/s]\n",
      "Mapping files: 100%|██████████| 3/3 [00:00<00:00, 307.85it/s]\n",
      "Mapping files: 100%|██████████| 3/3 [00:00<00:00, 276.04it/s]\n",
      "Mapping files: 100%|██████████| 3/3 [00:00<00:00, 203.38it/s]\n",
      "Mapping files: 100%|██████████| 3/3 [00:00<00:00, 300.77it/s]\n",
      "Mapping files: 100%|██████████| 3/3 [00:00<00:00, 308.42it/s]\n",
      "Mapping files: 100%|██████████| 3/3 [00:00<00:00, 411.92it/s]\n",
      "Mapping files: 100%|██████████| 3/3 [00:00<00:00, 272.38it/s]\n",
      "Mapping files: 100%|██████████| 3/3 [00:00<00:00, 327.79it/s]\n",
      "Mapping files: 100%|██████████| 3/3 [00:00<00:00, 319.11it/s]\n",
      "Mapping files: 100%|██████████| 3/3 [00:00<00:00, 318.55it/s]\n",
      "Mapping files: 100%|██████████| 3/3 [00:00<00:00, 324.01it/s]\n",
      "Mapping files: 100%|██████████| 3/3 [00:00<00:00, 316.89it/s]\n",
      "Mapping files: 100%|██████████| 3/3 [00:00<00:00, 290.39it/s]\n",
      "Mapping files: 100%|██████████| 3/3 [00:00<00:00, 337.23it/s]\n",
      "Mapping files: 100%|██████████| 3/3 [00:00<00:00, 389.12it/s]\n",
      "Mapping files: 100%|██████████| 3/3 [00:00<00:00, 349.41it/s]\n",
      "Mapping files: 100%|██████████| 3/3 [00:00<00:00, 320.44it/s]\n",
      "Mapping files: 100%|██████████| 3/3 [00:00<00:00, 270.68it/s]\n",
      "Mapping files: 100%|██████████| 3/3 [00:00<00:00, 293.36it/s]\n",
      "Mapping files: 100%|██████████| 3/3 [00:00<00:00, 318.78it/s]\n",
      "Mapping files: 100%|██████████| 3/3 [00:00<00:00, 294.79it/s]\n",
      "Mapping files: 100%|██████████| 3/3 [00:00<00:00, 297.15it/s]\n",
      "Mapping files: 100%|██████████| 3/3 [00:00<00:00, 380.82it/s]\n",
      "Mapping files: 100%|██████████| 3/3 [00:00<00:00, 275.96it/s]\n",
      "Mapping files: 100%|██████████| 3/3 [00:00<00:00, 287.22it/s]\n",
      "Mapping files: 100%|██████████| 3/3 [00:00<00:00, 298.03it/s]\n",
      "Mapping files: 100%|██████████| 3/3 [00:00<00:00, 389.01it/s]\n",
      "Mapping files: 100%|██████████| 3/3 [00:00<00:00, 335.88it/s]\n",
      "Mapping files: 100%|██████████| 3/3 [00:00<00:00, 392.05it/s]\n",
      "Mapping files: 100%|██████████| 3/3 [00:00<00:00, 393.95it/s]\n",
      "Mapping files: 100%|██████████| 3/3 [00:00<00:00, 327.33it/s]\n",
      "Mapping files: 100%|██████████| 3/3 [00:00<00:00, 370.82it/s]\n",
      "Mapping files: 100%|██████████| 3/3 [00:00<00:00, 296.03it/s]\n",
      "Mapping files: 100%|██████████| 3/3 [00:00<00:00, 320.00it/s]\n",
      "Mapping files: 100%|██████████| 3/3 [00:00<00:00, 328.51it/s]\n",
      "Mapping files: 100%|██████████| 3/3 [00:00<00:00, 350.78it/s]\n",
      "Mapping files: 100%|██████████| 3/3 [00:00<00:00, 275.03it/s]\n",
      "Mapping files: 100%|██████████| 3/3 [00:00<00:00, 266.55it/s]\n",
      "Mapping files: 100%|██████████| 3/3 [00:00<00:00, 321.21it/s]\n",
      "Mapping files: 100%|██████████| 3/3 [00:00<00:00, 323.31it/s]\n",
      "Mapping files: 100%|██████████| 3/3 [00:00<00:00, 269.52it/s]\n",
      "Mapping files: 100%|██████████| 3/3 [00:00<00:00, 392.46it/s]\n",
      "Mapping files: 100%|██████████| 3/3 [00:00<00:00, 291.66it/s]\n",
      "Mapping files: 100%|██████████| 3/3 [00:00<00:00, 349.04it/s]\n",
      "Mapping files: 100%|██████████| 3/3 [00:00<00:00, 317.67it/s]\n",
      "Mapping files: 100%|██████████| 3/3 [00:00<00:00, 266.33it/s]\n",
      "Mapping files: 100%|██████████| 3/3 [00:00<00:00, 205.75it/s]\n",
      "Mapping files: 100%|██████████| 3/3 [00:00<00:00, 327.26it/s]\n",
      "Mapping files: 100%|██████████| 3/3 [00:00<00:00, 287.03it/s]\n",
      "Mapping files: 100%|██████████| 3/3 [00:00<00:00, 319.36it/s]\n",
      "Mapping files: 100%|██████████| 3/3 [00:00<00:00, 363.83it/s]\n",
      "Mapping files: 100%|██████████| 3/3 [00:00<00:00, 325.98it/s]\n",
      "Mapping files: 100%|██████████| 3/3 [00:00<00:00, 324.01it/s]\n",
      "Mapping files: 100%|██████████| 3/3 [00:00<00:00, 205.97it/s]\n",
      "Mapping files: 100%|██████████| 3/3 [00:00<00:00, 294.99it/s]\n",
      "Mapping files: 100%|██████████| 3/3 [00:00<00:00, 316.79it/s]\n",
      "Mapping files: 100%|██████████| 3/3 [00:00<00:00, 327.54it/s]\n",
      "Mapping files: 100%|██████████| 3/3 [00:00<00:00, 290.05it/s]\n",
      "Mapping files: 100%|██████████| 3/3 [00:00<00:00, 319.69it/s]\n",
      "Mapping files: 100%|██████████| 3/3 [00:00<00:00, 355.41it/s]\n",
      "Mapping files: 100%|██████████| 3/3 [00:00<00:00, 382.37it/s]\n",
      "Mapping files: 100%|██████████| 3/3 [00:00<00:00, 331.97it/s]\n",
      "Mapping files: 100%|██████████| 3/3 [00:00<00:00, 363.77it/s]\n",
      "Mapping files: 100%|██████████| 3/3 [00:00<00:00, 267.60it/s]\n",
      "Mapping files: 100%|██████████| 3/3 [00:00<00:00, 323.41it/s]\n",
      "Mapping files: 100%|██████████| 3/3 [00:00<00:00, 360.27it/s]\n",
      "Mapping files: 100%|██████████| 3/3 [00:00<00:00, 291.99it/s]\n",
      "Mapping files: 100%|██████████| 3/3 [00:00<00:00, 296.04it/s]\n",
      "Mapping files: 100%|██████████| 3/3 [00:00<00:00, 290.08it/s]\n",
      "Mapping files: 100%|██████████| 3/3 [00:00<00:00, 296.15it/s]\n",
      "Mapping files: 100%|██████████| 3/3 [00:00<00:00, 387.06it/s]\n",
      "Mapping files: 100%|██████████| 3/3 [00:00<00:00, 380.27it/s]\n",
      "Mapping files: 100%|██████████| 3/3 [00:00<00:00, 294.23it/s]\n",
      "Mapping files: 100%|██████████| 3/3 [00:00<00:00, 302.88it/s]\n",
      "Mapping files: 100%|██████████| 3/3 [00:00<00:00, 313.55it/s]\n",
      "Mapping files: 100%|██████████| 3/3 [00:00<00:00, 265.65it/s]\n",
      "Mapping files: 100%|██████████| 3/3 [00:00<00:00, 324.43it/s]\n",
      "Mapping files: 100%|██████████| 3/3 [00:00<00:00, 324.18it/s]\n",
      "Mapping files: 100%|██████████| 3/3 [00:00<00:00, 248.31it/s]\n",
      "Mapping files: 100%|██████████| 3/3 [00:00<00:00, 293.48it/s]\n",
      "Mapping files: 100%|██████████| 3/3 [00:00<00:00, 417.41it/s]\n",
      "Mapping files: 100%|██████████| 3/3 [00:00<00:00, 252.48it/s]\n",
      "Mapping files: 100%|██████████| 3/3 [00:00<00:00, 333.68it/s]\n",
      "Mapping files: 100%|██████████| 3/3 [00:00<00:00, 372.63it/s]\n",
      "Mapping files: 100%|██████████| 3/3 [00:00<00:00, 320.11it/s]\n",
      "Mapping files: 100%|██████████| 3/3 [00:00<00:00, 245.95it/s]\n",
      "Mapping files: 100%|██████████| 3/3 [00:00<00:00, 309.34it/s]\n",
      "Mapping files: 100%|██████████| 3/3 [00:00<00:00, 258.86it/s]\n",
      "Mapping files: 100%|██████████| 3/3 [00:00<00:00, 320.89it/s]\n",
      "Mapping files: 100%|██████████| 3/3 [00:00<00:00, 323.83it/s]\n",
      "Mapping files: 100%|██████████| 3/3 [00:00<00:00, 392.31it/s]\n",
      "Mapping files: 100%|██████████| 3/3 [00:00<00:00, 349.29it/s]\n",
      "Mapping files: 100%|██████████| 3/3 [00:00<00:00, 364.52it/s]\n",
      "Mapping files: 100%|██████████| 3/3 [00:00<00:00, 327.22it/s]\n",
      "Mapping files: 100%|██████████| 3/3 [00:00<00:00, 285.88it/s]\n",
      "Mapping files: 100%|██████████| 3/3 [00:00<00:00, 264.06it/s]\n",
      "Mapping files: 100%|██████████| 3/3 [00:00<00:00, 284.87it/s]\n",
      "Mapping files: 100%|██████████| 3/3 [00:00<00:00, 339.52it/s]\n",
      "Mapping files: 100%|██████████| 3/3 [00:00<00:00, 273.15it/s]\n",
      "Mapping files: 100%|██████████| 3/3 [00:00<00:00, 171.99it/s]\n",
      "Mapping files: 100%|██████████| 3/3 [00:00<00:00, 246.69it/s]\n",
      "Mapping files: 100%|██████████| 3/3 [00:00<00:00, 308.26it/s]\n",
      "Mapping files: 100%|██████████| 3/3 [00:00<00:00, 322.72it/s]\n",
      "Mapping files: 100%|██████████| 3/3 [00:00<00:00, 324.75it/s]\n",
      "Mapping files: 100%|██████████| 3/3 [00:00<00:00, 336.09it/s]\n",
      "Mapping files: 100%|██████████| 3/3 [00:00<00:00, 330.44it/s]\n",
      "Mapping files: 100%|██████████| 3/3 [00:00<00:00, 324.42it/s]\n",
      "Mapping files: 100%|██████████| 3/3 [00:00<00:00, 329.40it/s]\n",
      "Mapping files: 100%|██████████| 3/3 [00:00<00:00, 341.72it/s]\n",
      "Mapping files: 100%|██████████| 3/3 [00:00<00:00, 231.25it/s]\n",
      "Mapping files: 100%|██████████| 3/3 [00:00<00:00, 292.34it/s]\n",
      "Mapping files: 100%|██████████| 3/3 [00:00<00:00, 387.24it/s]\n",
      "Mapping files: 100%|██████████| 3/3 [00:00<00:00, 216.84it/s]\n",
      "Mapping files: 100%|██████████| 3/3 [00:00<00:00, 197.80it/s]\n",
      "Mapping files: 100%|██████████| 3/3 [00:00<00:00, 136.68it/s]\n",
      "Mapping files: 100%|██████████| 3/3 [00:00<00:00, 312.60it/s]\n",
      "Mapping files: 100%|██████████| 3/3 [00:00<00:00, 303.89it/s]\n",
      "Mapping files: 100%|██████████| 3/3 [00:00<00:00, 227.20it/s]\n",
      "Mapping files: 100%|██████████| 3/3 [00:00<00:00, 296.59it/s]\n",
      "Mapping files: 100%|██████████| 3/3 [00:00<00:00, 291.17it/s]\n",
      "Mapping files: 100%|██████████| 3/3 [00:00<00:00, 327.89it/s]\n",
      "Mapping files: 100%|██████████| 3/3 [00:00<00:00, 382.85it/s]\n",
      "Mapping files: 100%|██████████| 3/3 [00:00<00:00, 267.49it/s]\n",
      "Mapping files: 100%|██████████| 3/3 [00:00<00:00, 291.07it/s]\n",
      "Mapping files: 100%|██████████| 3/3 [00:00<00:00, 316.49it/s]\n",
      "Mapping files: 100%|██████████| 3/3 [00:00<00:00, 248.94it/s]\n",
      "Mapping files: 100%|██████████| 3/3 [00:00<00:00, 334.27it/s]\n",
      "Mapping files: 100%|██████████| 3/3 [00:00<00:00, 290.53it/s]\n",
      "Mapping files: 100%|██████████| 3/3 [00:00<00:00, 248.81it/s]\n",
      "Mapping files: 100%|██████████| 3/3 [00:00<00:00, 364.13it/s]\n",
      "Mapping files: 100%|██████████| 3/3 [00:00<00:00, 271.35it/s]\n",
      "Mapping files: 100%|██████████| 3/3 [00:00<00:00, 289.41it/s]\n",
      "Mapping files: 100%|██████████| 3/3 [00:00<00:00, 263.50it/s]\n",
      "Mapping files: 100%|██████████| 3/3 [00:00<00:00, 294.81it/s]\n",
      "Mapping files: 100%|██████████| 3/3 [00:00<00:00, 278.37it/s]\n",
      "Mapping files: 100%|██████████| 3/3 [00:00<00:00, 305.47it/s]\n",
      "Mapping files: 100%|██████████| 3/3 [00:00<00:00, 293.09it/s]\n",
      "Mapping files: 100%|██████████| 3/3 [00:00<00:00, 292.68it/s]\n",
      "Mapping files: 100%|██████████| 3/3 [00:00<00:00, 294.35it/s]\n",
      "Mapping files: 100%|██████████| 3/3 [00:00<00:00, 247.47it/s]\n",
      "Mapping files: 100%|██████████| 3/3 [00:00<00:00, 325.67it/s]\n",
      "Mapping files: 100%|██████████| 3/3 [00:00<00:00, 258.66it/s]\n",
      "Mapping files: 100%|██████████| 3/3 [00:00<00:00, 302.97it/s]\n",
      "Mapping files: 100%|██████████| 3/3 [00:00<00:00, 243.90it/s]\n",
      "Mapping files: 100%|██████████| 3/3 [00:00<00:00, 295.42it/s]\n",
      "Mapping files: 100%|██████████| 3/3 [00:00<00:00, 331.17it/s]\n",
      "Mapping files: 100%|██████████| 3/3 [00:00<00:00, 347.41it/s]\n",
      "Mapping files: 100%|██████████| 3/3 [00:00<00:00, 300.81it/s]\n",
      "Mapping files: 100%|██████████| 3/3 [00:00<00:00, 285.06it/s]\n",
      "Mapping files: 100%|██████████| 3/3 [00:00<00:00, 353.15it/s]\n",
      "Mapping files: 100%|██████████| 3/3 [00:00<00:00, 281.59it/s]\n",
      "Mapping files: 100%|██████████| 3/3 [00:00<00:00, 332.56it/s]\n",
      "Mapping files: 100%|██████████| 3/3 [00:00<00:00, 270.39it/s]\n",
      "Mapping files: 100%|██████████| 3/3 [00:00<00:00, 343.61it/s]\n",
      "Mapping files: 100%|██████████| 3/3 [00:00<00:00, 249.96it/s]\n",
      "Mapping files: 100%|██████████| 3/3 [00:00<00:00, 304.17it/s]\n",
      "Mapping files: 100%|██████████| 3/3 [00:00<00:00, 334.89it/s]\n",
      "Mapping files: 100%|██████████| 3/3 [00:00<00:00, 299.14it/s]\n",
      "Mapping files: 100%|██████████| 3/3 [00:00<00:00, 223.88it/s]\n",
      "Mapping files: 100%|██████████| 3/3 [00:00<00:00, 319.19it/s]\n",
      "Mapping files: 100%|██████████| 3/3 [00:00<00:00, 295.63it/s]\n",
      "Mapping files: 100%|██████████| 3/3 [00:00<00:00, 360.67it/s]\n",
      "Mapping files: 100%|██████████| 3/3 [00:00<00:00, 292.17it/s]\n",
      "Mapping files: 100%|██████████| 3/3 [00:00<00:00, 288.26it/s]\n",
      "Mapping files: 100%|██████████| 3/3 [00:00<00:00, 275.05it/s]\n",
      "Mapping files: 100%|██████████| 3/3 [00:00<00:00, 193.08it/s]\n",
      "Mapping files: 100%|██████████| 3/3 [00:00<00:00, 262.08it/s]\n",
      "Mapping files: 100%|██████████| 3/3 [00:00<00:00, 285.47it/s]\n",
      "Mapping files: 100%|██████████| 3/3 [00:00<00:00, 273.47it/s]\n",
      "Mapping files: 100%|██████████| 3/3 [00:00<00:00, 286.34it/s]\n",
      "Mapping files: 100%|██████████| 3/3 [00:00<00:00, 335.98it/s]\n",
      "Mapping files: 100%|██████████| 3/3 [00:00<00:00, 330.41it/s]\n",
      "Mapping files: 100%|██████████| 3/3 [00:00<00:00, 347.31it/s]\n",
      "Mapping files: 100%|██████████| 3/3 [00:00<00:00, 256.91it/s]\n",
      "Mapping files: 100%|██████████| 3/3 [00:00<00:00, 297.88it/s]\n",
      "Mapping files: 100%|██████████| 3/3 [00:00<00:00, 346.87it/s]\n",
      "Mapping files: 100%|██████████| 3/3 [00:00<00:00, 273.61it/s]\n",
      "Mapping files: 100%|██████████| 3/3 [00:00<00:00, 288.24it/s]\n",
      "Mapping files: 100%|██████████| 3/3 [00:00<00:00, 355.91it/s]\n",
      "Mapping files: 100%|██████████| 3/3 [00:00<00:00, 345.55it/s]\n",
      "Mapping files: 100%|██████████| 3/3 [00:00<00:00, 352.74it/s]\n",
      "Mapping files: 100%|██████████| 3/3 [00:00<00:00, 333.34it/s]\n",
      "Mapping files: 100%|██████████| 3/3 [00:00<00:00, 321.07it/s]\n",
      "Mapping files: 100%|██████████| 3/3 [00:00<00:00, 323.59it/s]\n",
      "Mapping files: 100%|██████████| 3/3 [00:00<00:00, 331.60it/s]\n",
      "Mapping files: 100%|██████████| 3/3 [00:00<00:00, 286.42it/s]\n",
      "Mapping files: 100%|██████████| 3/3 [00:00<00:00, 412.37it/s]\n",
      "Mapping files: 100%|██████████| 3/3 [00:00<00:00, 322.09it/s]\n",
      "Mapping files: 100%|██████████| 3/3 [00:00<00:00, 316.55it/s]\n",
      "Mapping files: 100%|██████████| 3/3 [00:00<00:00, 327.87it/s]\n",
      "Mapping files: 100%|██████████| 3/3 [00:00<00:00, 349.23it/s]\n",
      "Mapping files: 100%|██████████| 3/3 [00:00<00:00, 180.57it/s]\n",
      "Mapping files: 100%|██████████| 3/3 [00:00<00:00, 371.98it/s]\n",
      "Mapping files: 100%|██████████| 3/3 [00:00<00:00, 269.18it/s]\n",
      "Mapping files: 100%|██████████| 3/3 [00:00<00:00, 332.20it/s]\n",
      "Mapping files: 100%|██████████| 3/3 [00:00<00:00, 315.09it/s]\n",
      "Mapping files: 100%|██████████| 3/3 [00:00<00:00, 329.82it/s]\n",
      "Mapping files: 100%|██████████| 3/3 [00:00<00:00, 331.68it/s]\n",
      "Mapping files: 100%|██████████| 3/3 [00:00<00:00, 335.41it/s]\n",
      "Mapping files: 100%|██████████| 3/3 [00:00<00:00, 306.19it/s]\n"
     ]
    }
   ],
   "source": [
    "# this takes approximately 22 minutes on my end\n",
    "\n",
    "eqtl_results = []\n",
    "for f in os.listdir('temp_dir/eqtl/plink_files'):\n",
    "    if f.startswith(f'1000G.EUR.15') and f.endswith('.bed'):\n",
    "        prefix = f.split('.bed')[0]\n",
    "        gid = f.split('.')[3]\n",
    "        gsym = genes_15[genes_15['ID'] == gid]['SYM'].iloc[0]\n",
    "        if gid not in missing_genes:\n",
    "            (bim, fam, bed) = ppl.read_plink(f'temp_dir/eqtl/plink_files/{prefix}')\n",
    "            bed_sample_filtered = bed.compute()[:, overlap_idx_genome]\n",
    "            for snp_i in range(bim.shape[0]):\n",
    "                x = bed_sample_filtered[snp_i, :]\n",
    "                if np.all(x == x[0]):\n",
    "                    continue # Skip monomorphic SNPs\n",
    "                X = sm.add_constant(x)\n",
    "                y = gene_exp_overlap[gene_exp_overlap['SYM'] == gsym].iloc[0].tolist()[5:]\n",
    "                model = sm.OLS(y, X)\n",
    "                res = model.fit()\n",
    "                eqtl_results.append({'CHR': 15, 'BP': bim['pos'].iloc[snp_i], 'REF': bim['a0'].iloc[snp_i], \n",
    "                                'ALT': bim['a1'].iloc[snp_i], 'P': res.pvalues[1], 'BETA': res.params[1],\n",
    "                                'SE': res.bse[1], 'SNP': bim['snp'].iloc[snp_i]}) \n",
    "    eqtl_df = pd.DataFrame(eqtl_results)\n",
    "    eqtl_df.to_csv(f'result/eqtl/ciseqtl_chr15.txt')"
   ]
  },
  {
   "cell_type": "markdown",
   "id": "ec286b39",
   "metadata": {},
   "source": [
    "#### cis-eQTL -analysis & plot"
   ]
  },
  {
   "cell_type": "code",
   "execution_count": 24,
   "id": "7f5a76cc",
   "metadata": {},
   "outputs": [
    {
     "data": {
      "image/png": "[encoded data removed]",
      "text/plain": [
       "<Figure size 1000x600 with 1 Axes>"
      ]
     },
     "metadata": {},
     "output_type": "display_data"
    }
   ],
   "source": [
    "# an overview of cis-eQTL for chr15\n",
    "\n",
    "temp_df = pd.read_csv(f'result/eqtl/ciseqtl_chr15.txt', index_col='Unnamed: 0')\n",
    "temp_df['-log10(P)'] = -np.log10(temp_df['P'])\n",
    "\n",
    "fig, ax = plt.subplots(figsize=(10, 6))\n",
    "ax.scatter(temp_df['BP'], temp_df['-log10(P)'], s=2)\n",
    "ax.set_xlabel('Base Pair Position')\n",
    "ax.set_ylabel('-log10(p-value)')\n",
    "ax.set_title(f'cis-eQTL Analysis for Chromosome 15')\n",
    "ax.axhline(y=-np.log10(5e-8), color='r', linestyle='--', label='Genome-wide significance')\n",
    "plt.tight_layout()\n",
    "plt.show()"
   ]
  },
  {
   "cell_type": "code",
   "execution_count": 25,
   "id": "abfc5da6",
   "metadata": {},
   "outputs": [],
   "source": [
    "# Now I will look deeper into the significant peak on chromosome 15 around 0.4\n",
    "temp_df_15 = pd.read_csv(f'result/eqtl/ciseqtl_chr15.txt', index_col='Unnamed: 0')\n",
    "peak_BP = temp_df_15[temp_df_15['P'] == temp_df_15['P'].min()]['BP'].iloc[0]\n",
    "idx = np.abs(genes[genes['CHR']==15]['START'] - peak_BP).idxmin()\n",
    "gene_of_interst = genes.loc[idx]['ID']\n"
   ]
  },
  {
   "cell_type": "markdown",
   "id": "eac29c53",
   "metadata": {},
   "source": [
    "Now, we can also look at that specefic gene, including the cis-eQTL assocaitions and linkage disequilibrium, using LocusZoom (https://statgen.github.io/localzoom/)\n",
    "<br>\n",
    "Below is the code to generate the data to be upload to LocusZoom..."
   ]
  },
  {
   "cell_type": "code",
   "execution_count": 26,
   "id": "5afdd17f",
   "metadata": {},
   "outputs": [],
   "source": [
    "%%bash\n",
    "mkdir -p result/locuszoom"
   ]
  },
  {
   "cell_type": "code",
   "execution_count": 27,
   "id": "80ea6508",
   "metadata": {},
   "outputs": [],
   "source": [
    "gene_df = temp_df_15[(temp_df_15['BP'] >= genes[genes['ID'] == gene_of_interst]['START'].iloc[0]-500000) & (temp_df_15['BP'] <= genes[genes['ID'] == gene_of_interst]['STOP'].iloc[0]+500000)]\n",
    "gene_df = gene_df.sort_values(by=['CHR', 'BP'])\n",
    "gene_df.to_csv(f'result/locuszoom/locuszoom_{15}_{gene_of_interst}.txt', sep='\\t', index=False)"
   ]
  },
  {
   "cell_type": "code",
   "execution_count": 28,
   "id": "1b734053",
   "metadata": {},
   "outputs": [
    {
     "name": "stderr",
     "output_type": "stream",
     "text": [
      "[E::get_intv] Failed to parse TBX_GENERIC, was wrong -p [type] used?\n",
      "The offending line was: \"CHR\tBP\tREF\tALT\tP\tBETA\tSE\tSNP\"\n"
     ]
    }
   ],
   "source": [
    "%%bash\n",
    "bgzip -c result/locuszoom/locuszoom_15_MGA.txt > result/locuszoom/locuszoom_15_MGA.txt.gz\n",
    "tabix -s 1 -b 2 -e 2 result/locuszoom/locuszoom_15_MGA.txt.gz"
   ]
  },
  {
   "cell_type": "markdown",
   "id": "7f594fe9",
   "metadata": {},
   "source": [
    "### PRS with eQTL summary data\n",
    "In this section, I will develop a PRS using eQTL summary data. I focus on a signle gene MGA (Predicted to be involved in cell fate specification and positive regulation of transcription by RNA polymerase II)."
   ]
  },
  {
   "cell_type": "markdown",
   "id": "d34f3edc",
   "metadata": {},
   "source": [
    "#### split datasets into train, valid, test with 5-3-2 split"
   ]
  },
  {
   "cell_type": "code",
   "execution_count": 29,
   "id": "0464bc84",
   "metadata": {},
   "outputs": [],
   "source": [
    "%%bash\n",
    "mkdir -p temp_dir/prs_eqtl"
   ]
  },
  {
   "cell_type": "code",
   "execution_count": 30,
   "id": "84743a4c",
   "metadata": {},
   "outputs": [],
   "source": [
    "all_ids = fam['iid'][overlap_idx_genome].tolist()  \n",
    "random.seed(42)\n",
    "random.shuffle(all_ids)\n",
    "total_count = len(all_ids)\n",
    "\n",
    "# Splitting into 50%-30%-20% for train, validation, and test sets\n",
    "train_count = int(total_count * 0.50)\n",
    "valid_count = int(total_count * 0.30)\n",
    "train_ids = all_ids[:train_count]\n",
    "valid_ids = all_ids[train_count:train_count + valid_count]\n",
    "test_ids = all_ids[train_count + valid_count:]\n",
    "\n",
    "train_ids_df = fam[fam['iid'].isin(train_ids)]\n",
    "valid_ids_df = fam[fam['iid'].isin(valid_ids)]\n",
    "test_ids_df = fam[fam['iid'].isin(test_ids)]\n",
    "train_ids_df[['fid', 'iid']].to_csv('temp_dir/prs_eqtl/train_keep.txt', sep=' ', header=False, index=False)\n",
    "valid_ids_df[['fid', 'iid']].to_csv('temp_dir/prs_eqtl/valid_keep.txt', sep=' ', header=False, index=False)\n",
    "test_ids_df[['fid', 'iid']].to_csv('temp_dir/prs_eqtl/test_keep.txt', sep=' ', header=False, index=False)\n"
   ]
  },
  {
   "cell_type": "code",
   "execution_count": 31,
   "id": "e24d55b1",
   "metadata": {},
   "outputs": [
    {
     "name": "stdout",
     "output_type": "stream",
     "text": [
      "PLINK v2.0.0-a.6.3 M1 (3 Dec 2024)                 cog-genomics.org/plink/2.0/\n",
      "(C) 2005-2024 Shaun Purcell, Christopher Chang   GNU General Public License v3\n",
      "Logging to temp_dir/prs_eqtl/15_MGA_train.log.\n",
      "Options in effect:\n",
      "  --bfile temp_dir/eqtl/plink_files/1000G.EUR.15.MGA\n",
      "  --keep temp_dir/prs_eqtl/train_keep.txt\n",
      "  --make-bed\n",
      "  --out temp_dir/prs_eqtl/15_MGA_train\n",
      "\n",
      "Start time: Thu Dec  5 00:49:21 2024\n",
      "18432 MiB RAM detected; reserving 9216 MiB for main workspace.\n",
      "Using up to 11 threads (change this with --threads).\n",
      "489 samples (0 females, 0 males, 489 ambiguous; 489 founders) loaded from\n",
      "temp_dir/eqtl/plink_files/1000G.EUR.15.MGA.fam.\n",
      "363 variants loaded from temp_dir/eqtl/plink_files/1000G.EUR.15.MGA.bim.\n",
      "Note: No phenotype data present.\n",
      "--keep: 172 samples remaining.\n",
      "172 samples (0 females, 0 males, 172 ambiguous; 172 founders) remaining after\n",
      "main filters.\n",
      "Writing temp_dir/prs_eqtl/15_MGA_train.fam ... done.\n",
      "Writing temp_dir/prs_eqtl/15_MGA_train.bim ... done.\n",
      "Writing temp_dir/prs_eqtl/15_MGA_train.bed ... done.\n",
      "End time: Thu Dec  5 00:49:21 2024\n",
      "PLINK v2.0.0-a.6.3 M1 (3 Dec 2024)                 cog-genomics.org/plink/2.0/\n",
      "(C) 2005-2024 Shaun Purcell, Christopher Chang   GNU General Public License v3\n",
      "Logging to temp_dir/prs_eqtl/15_MGA_valid.log.\n",
      "Options in effect:\n",
      "  --bfile temp_dir/eqtl/plink_files/1000G.EUR.15.MGA\n",
      "  --keep temp_dir/prs_eqtl/valid_keep.txt\n",
      "  --make-bed\n",
      "  --out temp_dir/prs_eqtl/15_MGA_valid\n",
      "\n",
      "Start time: Thu Dec  5 00:49:21 2024\n",
      "18432 MiB RAM detected; reserving 9216 MiB for main workspace.\n",
      "Using up to 11 threads (change this with --threads).\n",
      "489 samples (0 females, 0 males, 489 ambiguous; 489 founders) loaded from\n",
      "temp_dir/eqtl/plink_files/1000G.EUR.15.MGA.fam.\n",
      "363 variants loaded from temp_dir/eqtl/plink_files/1000G.EUR.15.MGA.bim.\n",
      "Note: No phenotype data present.\n",
      "--keep: 103 samples remaining.\n",
      "103 samples (0 females, 0 males, 103 ambiguous; 103 founders) remaining after\n",
      "main filters.\n",
      "Writing temp_dir/prs_eqtl/15_MGA_valid.fam ... done.\n",
      "Writing temp_dir/prs_eqtl/15_MGA_valid.bim ... done.\n",
      "Writing temp_dir/prs_eqtl/15_MGA_valid.bed ... done.\n",
      "End time: Thu Dec  5 00:49:21 2024\n",
      "PLINK v2.0.0-a.6.3 M1 (3 Dec 2024)                 cog-genomics.org/plink/2.0/\n",
      "(C) 2005-2024 Shaun Purcell, Christopher Chang   GNU General Public License v3\n",
      "Logging to temp_dir/prs_eqtl/15_MGA_test.log.\n",
      "Options in effect:\n",
      "  --bfile temp_dir/eqtl/plink_files/1000G.EUR.15.MGA\n",
      "  --keep temp_dir/prs_eqtl/test_keep.txt\n",
      "  --make-bed\n",
      "  --out temp_dir/prs_eqtl/15_MGA_test\n",
      "\n",
      "Start time: Thu Dec  5 00:49:21 2024\n",
      "18432 MiB RAM detected; reserving 9216 MiB for main workspace.\n",
      "Using up to 11 threads (change this with --threads).\n",
      "489 samples (0 females, 0 males, 489 ambiguous; 489 founders) loaded from\n",
      "temp_dir/eqtl/plink_files/1000G.EUR.15.MGA.fam.\n",
      "363 variants loaded from temp_dir/eqtl/plink_files/1000G.EUR.15.MGA.bim.\n",
      "Note: No phenotype data present.\n",
      "--keep: 69 samples remaining.\n",
      "69 samples (0 females, 0 males, 69 ambiguous; 69 founders) remaining after main\n",
      "filters.\n",
      "Writing temp_dir/prs_eqtl/15_MGA_test.fam ... done.\n",
      "Writing temp_dir/prs_eqtl/15_MGA_test.bim ... done.\n",
      "Writing temp_dir/prs_eqtl/15_MGA_test.bed ... done.\n",
      "End time: Thu Dec  5 00:49:21 2024\n"
     ]
    }
   ],
   "source": [
    "%%bash\n",
    "./plink2 --bfile temp_dir/eqtl/plink_files/1000G.EUR.15.MGA --keep temp_dir/prs_eqtl/train_keep.txt --make-bed --out temp_dir/prs_eqtl/15_MGA_train\n",
    "./plink2 --bfile temp_dir/eqtl/plink_files/1000G.EUR.15.MGA --keep temp_dir/prs_eqtl/valid_keep.txt --make-bed --out temp_dir/prs_eqtl/15_MGA_valid\n",
    "./plink2 --bfile temp_dir/eqtl/plink_files/1000G.EUR.15.MGA --keep temp_dir/prs_eqtl/test_keep.txt --make-bed --out temp_dir/prs_eqtl/15_MGA_test\n"
   ]
  },
  {
   "cell_type": "markdown",
   "id": "8021a8c7",
   "metadata": {},
   "source": [
    "#### run PRS"
   ]
  },
  {
   "cell_type": "code",
   "execution_count": 32,
   "id": "3f25a13f",
   "metadata": {},
   "outputs": [
    {
     "name": "stdout",
     "output_type": "stream",
     "text": [
      "PLINK v2.0.0-a.6.3 M1 (3 Dec 2024)                 cog-genomics.org/plink/2.0/\n",
      "(C) 2005-2024 Shaun Purcell, Christopher Chang   GNU General Public License v3\n",
      "Logging to temp_dir/prs_eqtl/15_MGA_train.log.\n",
      "Options in effect:\n",
      "  --bfile temp_dir/prs_eqtl/15_MGA_train\n",
      "  --clump result/locuszoom/locuszoom_15_MGA.txt\n",
      "  --clump-id-field SNP\n",
      "  --clump-kb 250\n",
      "  --clump-p-field P\n",
      "  --clump-p1 0.1\n",
      "  --clump-r2 0.1\n",
      "  --out temp_dir/prs_eqtl/15_MGA_train\n",
      "\n",
      "Start time: Thu Dec  5 00:49:21 2024\n",
      "18432 MiB RAM detected; reserving 9216 MiB for main workspace.\n",
      "Using up to 11 threads (change this with --threads).\n",
      "172 samples (0 females, 0 males, 172 ambiguous; 172 founders) loaded from\n",
      "temp_dir/prs_eqtl/15_MGA_train.fam.\n",
      "363 variants loaded from temp_dir/prs_eqtl/15_MGA_train.bim.\n",
      "Note: No phenotype data present.\n",
      "--clump: 31 clumps formed from 349 index candidates.  \n",
      "Results written to temp_dir/prs_eqtl/15_MGA_train.clumps .\n",
      "End time: Thu Dec  5 00:49:21 2024\n"
     ]
    }
   ],
   "source": [
    "%%bash\n",
    "p_val=0.1\n",
    "r2=0.1\n",
    "./plink2 --bfile temp_dir/prs_eqtl/15_MGA_train --clump-p1 $p_val --clump-r2 $r2 --clump-kb 250 --clump result/locuszoom/locuszoom_15_MGA.txt --clump-snp-field SNP --clump-field P --out temp_dir/prs_eqtl/15_MGA_train"
   ]
  },
  {
   "cell_type": "code",
   "execution_count": 33,
   "id": "06fc9bac",
   "metadata": {},
   "outputs": [],
   "source": [
    "%%bash\n",
    "# Extract SNPs from clumped output (skipping the header line)\n",
    "awk 'NR!=1 {print $3}' temp_dir/prs_eqtl/15_MGA_train.clumps > temp_dir/prs_eqtl/MGA.valid.snp\n",
    "\n",
    "# Extract columns 8 and 5 from the locuszoom file and save to a new file\n",
    "awk '{print $8, $5}' result/locuszoom/locuszoom_15_MGA.txt > temp_dir/prs_eqtl/SNP.pvalue"
   ]
  },
  {
   "cell_type": "code",
   "execution_count": 34,
   "id": "787aceb2",
   "metadata": {},
   "outputs": [],
   "source": [
    "score_file = 'result/locuszoom/locuszoom_15_MGA.txt'\n",
    "df = pd.read_csv(score_file, sep='\\t')\n",
    "df_unique = df.drop_duplicates(subset='SNP')\n",
    "df_unique.to_csv('temp_dir/prs_eqtl/locuszoom_15_MGA_unique.txt', sep='\\t', index=False)"
   ]
  },
  {
   "cell_type": "code",
   "execution_count": 35,
   "id": "74da368f",
   "metadata": {},
   "outputs": [
    {
     "name": "stdout",
     "output_type": "stream",
     "text": [
      "PLINK v2.0.0-a.6.3 M1 (3 Dec 2024)                 cog-genomics.org/plink/2.0/\n",
      "(C) 2005-2024 Shaun Purcell, Christopher Chang   GNU General Public License v3\n",
      "Logging to result/eqtl_prs/val001.log.\n",
      "Options in effect:\n",
      "  --bfile temp_dir/prs_eqtl/15_MGA_valid\n",
      "  --extract temp_dir/prs_eqtl/MGA.valid.snp\n",
      "  --out result/eqtl_prs/val001\n",
      "  --q-score-range temp_dir/prs_eqtl/range_list temp_dir/prs_eqtl/SNP.pvalue min\n",
      "  --score temp_dir/prs_eqtl/locuszoom_15_MGA_unique.txt 8 3 6 header\n",
      "\n",
      "Start time: Thu Dec  5 00:49:21 2024\n",
      "18432 MiB RAM detected; reserving 9216 MiB for main workspace.\n",
      "Using up to 11 threads (change this with --threads).\n",
      "103 samples (0 females, 0 males, 103 ambiguous; 103 founders) loaded from\n",
      "temp_dir/prs_eqtl/15_MGA_valid.fam.\n",
      "363 variants loaded from temp_dir/prs_eqtl/15_MGA_valid.bim.\n",
      "Note: No phenotype data present.\n",
      "--extract: 31 variants remaining.\n",
      "Calculating allele frequencies... done.\n",
      "31 variants remaining after main filters.\n",
      "--q-score-range: 1 range and 31 variants loaded.\n",
      "--score: 31 variants processed.\n",
      "--score + --q-score-range: Results written to result/eqtl_prs/val001.<range\n",
      "name>.sscore .\n",
      "End time: Thu Dec  5 00:49:21 2024\n"
     ]
    },
    {
     "name": "stderr",
     "output_type": "stream",
     "text": [
      "Warning: 5749 lines skipped in --q-score-range data file.\n",
      "Warning: --score: 332 entries in temp_dir/prs_eqtl/locuszoom_15_MGA_unique.txt\n",
      "were skipped due to missing variant IDs.\n",
      "(Add the 'list-variants' modifier to see which variants were actually used for\n",
      "scoring.)\n"
     ]
    }
   ],
   "source": [
    "%%bash\n",
    "mkdir -p result/eqtl_prs\n",
    "echo \"0.001 0 0.001\" > temp_dir/prs_eqtl/range_list\n",
    "./plink2 --bfile temp_dir/prs_eqtl/15_MGA_valid \\\n",
    "    --score temp_dir/prs_eqtl/locuszoom_15_MGA_unique.txt 8 3 6 header \\\n",
    "    --q-score-range temp_dir/prs_eqtl/range_list temp_dir/prs_eqtl/SNP.pvalue min \\\n",
    "    --extract temp_dir/prs_eqtl/MGA.valid.snp \\\n",
    "    --out result/eqtl_prs/val001\n",
    "rm result/eqtl_prs/*.log"
   ]
  },
  {
   "cell_type": "code",
   "execution_count": 36,
   "id": "4fd90e9e",
   "metadata": {},
   "outputs": [
    {
     "name": "stdout",
     "output_type": "stream",
     "text": [
      "p-value 0.001 r-squared 0.0003503328609654767\n"
     ]
    }
   ],
   "source": [
    "predicted_expression = pd.read_csv('result/eqtl_prs/val001.0.001.sscore', sep='\\t')['SCORE1_AVG']\n",
    "all_true_expression = gene_exp_overlap[gene_exp_overlap['SYM'] == genes[genes['ID'] == 'MGA']['SYM'].iloc[0]].iloc[0]\n",
    "valid_true_expression = [all_true_expression.loc[id] for id in valid_ids_df['iid']]\n",
    "correlation = np.corrcoef(predicted_expression, valid_true_expression)[0, 1]\n",
    "r_squared = correlation ** 2\n",
    "print(f'p-value 0.001 r-squared {r_squared}')"
   ]
  },
  {
   "cell_type": "code",
   "execution_count": 37,
   "id": "e4afd43d",
   "metadata": {},
   "outputs": [
    {
     "name": "stdout",
     "output_type": "stream",
     "text": [
      "PLINK v2.0.0-a.6.3 M1 (3 Dec 2024)                 cog-genomics.org/plink/2.0/\n",
      "(C) 2005-2024 Shaun Purcell, Christopher Chang   GNU General Public License v3\n",
      "Logging to result/eqtl_prs/val05.log.\n",
      "Options in effect:\n",
      "  --bfile temp_dir/prs_eqtl/15_MGA_valid\n",
      "  --extract temp_dir/prs_eqtl/MGA.valid.snp\n",
      "  --out result/eqtl_prs/val05\n",
      "  --q-score-range temp_dir/prs_eqtl/range_list temp_dir/prs_eqtl/SNP.pvalue min\n",
      "  --score temp_dir/prs_eqtl/locuszoom_15_MGA_unique.txt 8 3 6 header\n",
      "\n",
      "Start time: Thu Dec  5 00:49:21 2024\n",
      "18432 MiB RAM detected; reserving 9216 MiB for main workspace.\n",
      "Using up to 11 threads (change this with --threads).\n",
      "103 samples (0 females, 0 males, 103 ambiguous; 103 founders) loaded from\n",
      "temp_dir/prs_eqtl/15_MGA_valid.fam.\n",
      "363 variants loaded from temp_dir/prs_eqtl/15_MGA_valid.bim.\n",
      "Note: No phenotype data present.\n",
      "--extract: 31 variants remaining.\n",
      "Calculating allele frequencies... done.\n",
      "31 variants remaining after main filters.\n",
      "--q-score-range: 1 range and 31 variants loaded.\n",
      "--score: 31 variants processed.\n",
      "--score + --q-score-range: Results written to result/eqtl_prs/val05.<range\n",
      "name>.sscore .\n",
      "End time: Thu Dec  5 00:49:21 2024\n"
     ]
    },
    {
     "name": "stderr",
     "output_type": "stream",
     "text": [
      "Warning: 5749 lines skipped in --q-score-range data file.\n",
      "Warning: --score: 332 entries in temp_dir/prs_eqtl/locuszoom_15_MGA_unique.txt\n",
      "were skipped due to missing variant IDs.\n",
      "(Add the 'list-variants' modifier to see which variants were actually used for\n",
      "scoring.)\n"
     ]
    }
   ],
   "source": [
    "%%bash\n",
    "mkdir -p result/eqtl_prs\n",
    "echo \"0.05 0 0.05\" > temp_dir/prs_eqtl/range_list\n",
    "./plink2 --bfile temp_dir/prs_eqtl/15_MGA_valid \\\n",
    "    --score temp_dir/prs_eqtl/locuszoom_15_MGA_unique.txt 8 3 6 header \\\n",
    "    --q-score-range temp_dir/prs_eqtl/range_list temp_dir/prs_eqtl/SNP.pvalue min \\\n",
    "    --extract temp_dir/prs_eqtl/MGA.valid.snp \\\n",
    "    --out result/eqtl_prs/val05\n",
    "rm result/eqtl_prs/*.log"
   ]
  },
  {
   "cell_type": "code",
   "execution_count": 38,
   "id": "4d97d774",
   "metadata": {},
   "outputs": [
    {
     "name": "stdout",
     "output_type": "stream",
     "text": [
      "p-value 0.05 r-squared 0.00011165041238056419\n"
     ]
    }
   ],
   "source": [
    "predicted_expression = pd.read_csv('result/eqtl_prs/val05.0.05.sscore', sep='\\t')['SCORE1_AVG']\n",
    "all_true_expression = gene_exp_overlap[gene_exp_overlap['SYM'] == genes[genes['ID'] == 'MGA']['SYM'].iloc[0]].iloc[0]\n",
    "valid_true_expression = [all_true_expression.loc[id] for id in valid_ids_df['iid']]\n",
    "correlation = np.corrcoef(predicted_expression, valid_true_expression)[0, 1]\n",
    "r_squared = correlation ** 2\n",
    "print(f'p-value 0.05 r-squared {r_squared}')"
   ]
  },
  {
   "cell_type": "code",
   "execution_count": 39,
   "id": "d287cd36",
   "metadata": {},
   "outputs": [
    {
     "name": "stdout",
     "output_type": "stream",
     "text": [
      "PLINK v2.0.0-a.6.3 M1 (3 Dec 2024)                 cog-genomics.org/plink/2.0/\n",
      "(C) 2005-2024 Shaun Purcell, Christopher Chang   GNU General Public License v3\n",
      "Logging to result/eqtl_prs/val1.log.\n",
      "Options in effect:\n",
      "  --bfile temp_dir/prs_eqtl/15_MGA_valid\n",
      "  --extract temp_dir/prs_eqtl/MGA.valid.snp\n",
      "  --out result/eqtl_prs/val1\n",
      "  --q-score-range temp_dir/prs_eqtl/range_list temp_dir/prs_eqtl/SNP.pvalue min\n",
      "  --score temp_dir/prs_eqtl/locuszoom_15_MGA_unique.txt 8 3 6 header\n",
      "\n",
      "Start time: Thu Dec  5 00:49:21 2024\n",
      "18432 MiB RAM detected; reserving 9216 MiB for main workspace.\n",
      "Using up to 11 threads (change this with --threads).\n",
      "103 samples (0 females, 0 males, 103 ambiguous; 103 founders) loaded from\n",
      "temp_dir/prs_eqtl/15_MGA_valid.fam.\n",
      "363 variants loaded from temp_dir/prs_eqtl/15_MGA_valid.bim.\n",
      "Note: No phenotype data present.\n",
      "--extract: 31 variants remaining.\n",
      "Calculating allele frequencies... done.\n",
      "31 variants remaining after main filters.\n",
      "--q-score-range: 1 range and 31 variants loaded.\n",
      "--score: 31 variants processed.\n",
      "--score + --q-score-range: Results written to result/eqtl_prs/val1.<range\n",
      "name>.sscore .\n",
      "End time: Thu Dec  5 00:49:21 2024\n"
     ]
    },
    {
     "name": "stderr",
     "output_type": "stream",
     "text": [
      "Warning: 5749 lines skipped in --q-score-range data file.\n",
      "Warning: --score: 332 entries in temp_dir/prs_eqtl/locuszoom_15_MGA_unique.txt\n",
      "were skipped due to missing variant IDs.\n",
      "(Add the 'list-variants' modifier to see which variants were actually used for\n",
      "scoring.)\n"
     ]
    }
   ],
   "source": [
    "%%bash\n",
    "mkdir -p result/eqtl_prs\n",
    "echo \"0.1 0 0.1\" > temp_dir/prs_eqtl/range_list\n",
    "./plink2 --bfile temp_dir/prs_eqtl/15_MGA_valid \\\n",
    "    --score temp_dir/prs_eqtl/locuszoom_15_MGA_unique.txt 8 3 6 header \\\n",
    "    --q-score-range temp_dir/prs_eqtl/range_list temp_dir/prs_eqtl/SNP.pvalue min \\\n",
    "    --extract temp_dir/prs_eqtl/MGA.valid.snp \\\n",
    "    --out result/eqtl_prs/val1\n",
    "rm result/eqtl_prs/*.log"
   ]
  },
  {
   "cell_type": "code",
   "execution_count": 40,
   "id": "5605400e",
   "metadata": {},
   "outputs": [
    {
     "name": "stdout",
     "output_type": "stream",
     "text": [
      "p-value 0.1 r-squared 0.00633265474072352\n"
     ]
    }
   ],
   "source": [
    "predicted_expression = pd.read_csv('result/eqtl_prs/val1.0.1.sscore', sep='\\t')['SCORE1_AVG']\n",
    "all_true_expression = gene_exp_overlap[gene_exp_overlap['SYM'] == genes[genes['ID'] == 'MGA']['SYM'].iloc[0]].iloc[0]\n",
    "valid_true_expression = [all_true_expression.loc[id] for id in valid_ids_df['iid']]\n",
    "correlation = np.corrcoef(predicted_expression, valid_true_expression)[0, 1]\n",
    "r_squared = correlation ** 2\n",
    "print(f'p-value 0.1 r-squared {r_squared}')"
   ]
  },
  {
   "cell_type": "markdown",
   "id": "755006ac",
   "metadata": {},
   "source": [
    "it seems that when p-value is 0.01, the r-squared for valid set is the highest."
   ]
  },
  {
   "cell_type": "markdown",
   "id": "73524d19",
   "metadata": {},
   "source": [
    "#### Test accuracy"
   ]
  },
  {
   "cell_type": "code",
   "execution_count": 41,
   "id": "e53ea5ea",
   "metadata": {},
   "outputs": [
    {
     "name": "stdout",
     "output_type": "stream",
     "text": [
      "PLINK v2.0.0-a.6.3 M1 (3 Dec 2024)                 cog-genomics.org/plink/2.0/\n",
      "(C) 2005-2024 Shaun Purcell, Christopher Chang   GNU General Public License v3\n",
      "Logging to result/eqtl_prs/test.log.\n",
      "Options in effect:\n",
      "  --bfile temp_dir/prs_eqtl/15_MGA_test\n",
      "  --extract temp_dir/prs_eqtl/MGA.valid.snp\n",
      "  --out result/eqtl_prs/test\n",
      "  --q-score-range temp_dir/prs_eqtl/range_list temp_dir/prs_eqtl/SNP.pvalue min\n",
      "  --score temp_dir/prs_eqtl/locuszoom_15_MGA_unique.txt 8 3 6 header\n",
      "\n",
      "Start time: Thu Dec  5 00:49:21 2024\n",
      "18432 MiB RAM detected; reserving 9216 MiB for main workspace.\n",
      "Using up to 11 threads (change this with --threads).\n",
      "69 samples (0 females, 0 males, 69 ambiguous; 69 founders) loaded from\n",
      "temp_dir/prs_eqtl/15_MGA_test.fam.\n",
      "363 variants loaded from temp_dir/prs_eqtl/15_MGA_test.bim.\n",
      "Note: No phenotype data present.\n",
      "--extract: 31 variants remaining.\n",
      "Calculating allele frequencies... done.\n",
      "31 variants remaining after main filters.\n",
      "--q-score-range: 1 range and 31 variants loaded.\n",
      "--score: 31 variants processed.\n",
      "--score + --q-score-range: Results written to result/eqtl_prs/test.<range\n",
      "name>.sscore .\n",
      "End time: Thu Dec  5 00:49:21 2024\n"
     ]
    },
    {
     "name": "stderr",
     "output_type": "stream",
     "text": [
      "Warning: 5749 lines skipped in --q-score-range data file.\n",
      "Warning: --score: 332 entries in temp_dir/prs_eqtl/locuszoom_15_MGA_unique.txt\n",
      "were skipped due to missing variant IDs.\n",
      "(Add the 'list-variants' modifier to see which variants were actually used for\n",
      "scoring.)\n"
     ]
    }
   ],
   "source": [
    "%%bash\n",
    "mkdir -p result/eqtl_prs\n",
    "echo \"0.1 0 0.1\" > temp_dir/prs_eqtl/range_list\n",
    "./plink2 --bfile temp_dir/prs_eqtl/15_MGA_test \\\n",
    "    --score temp_dir/prs_eqtl/locuszoom_15_MGA_unique.txt 8 3 6 header \\\n",
    "    --q-score-range temp_dir/prs_eqtl/range_list temp_dir/prs_eqtl/SNP.pvalue min \\\n",
    "    --extract temp_dir/prs_eqtl/MGA.valid.snp \\\n",
    "    --out result/eqtl_prs/test\n",
    "rm result/eqtl_prs/*.log"
   ]
  },
  {
   "cell_type": "code",
   "execution_count": 42,
   "id": "989ca54d",
   "metadata": {},
   "outputs": [
    {
     "name": "stdout",
     "output_type": "stream",
     "text": [
      "p-value 0.1 r-squared 0.017212176808748054\n"
     ]
    }
   ],
   "source": [
    "predicted_expression = pd.read_csv('result/eqtl_prs/test.0.1.sscore', sep='\\t')['SCORE1_AVG']\n",
    "all_true_expression = gene_exp_overlap[gene_exp_overlap['SYM'] == genes[genes['ID'] == 'MGA']['SYM'].iloc[0]].iloc[0]\n",
    "valid_true_expression = [all_true_expression.loc[id] for id in test_ids_df['iid']]\n",
    "correlation = np.corrcoef(predicted_expression, valid_true_expression)[0, 1]\n",
    "r_squared = correlation ** 2\n",
    "print(f'p-value 0.1 r-squared {r_squared}')"
   ]
  },
  {
   "cell_type": "markdown",
   "id": "d5fc51a3",
   "metadata": {},
   "source": [
    "### PRS with GWAS heigh summary data\n"
   ]
  },
  {
   "cell_type": "code",
   "execution_count": 43,
   "id": "6c768d03",
   "metadata": {},
   "outputs": [],
   "source": [
    "%%bash\n",
    "mkdir -p temp_dir/prs_gwas\n",
    "mkdir -p result/prs_gwas"
   ]
  },
  {
   "cell_type": "markdown",
   "id": "683bb1d6",
   "metadata": {},
   "source": [
    "I already merged Tiffany's genome data obtained from 23andme with the 1000 Genome (chromosome 17)."
   ]
  },
  {
   "cell_type": "code",
   "execution_count": 44,
   "id": "b1a8074b",
   "metadata": {},
   "outputs": [],
   "source": [
    "dat = pd.read_csv(\"data/Height.gwas.txt.gz\", compression='gzip', header=0, sep=\"\\t\")\n",
    "dat['BETA'] = np.log(dat['OR'])\n",
    "dat.to_csv(\"temp_dir/prs_gwas/Height.QC.Transformed\", sep=\"\\t\", index=False, quoting=False)"
   ]
  },
  {
   "cell_type": "code",
   "execution_count": 45,
   "id": "7865f457",
   "metadata": {},
   "outputs": [
    {
     "name": "stdout",
     "output_type": "stream",
     "text": [
      "PLINK v2.0.0-a.6.3 M1 (3 Dec 2024)                 cog-genomics.org/plink/2.0/\n",
      "(C) 2005-2024 Shaun Purcell, Christopher Chang   GNU General Public License v3\n",
      "Logging to temp_dir/prs_gwas/merged_17.log.\n",
      "Options in effect:\n",
      "  --bfile data/merged_17\n",
      "  --clump temp_dir/prs_gwas/Height.QC.Transformed\n",
      "  --clump-id-field SNP\n",
      "  --clump-kb 250\n",
      "  --clump-p-field P\n",
      "  --clump-p1 0.01\n",
      "  --clump-r2 0.01\n",
      "  --out temp_dir/prs_gwas/merged_17\n",
      "\n",
      "Start time: Thu Dec  5 00:49:25 2024\n",
      "18432 MiB RAM detected; reserving 9216 MiB for main workspace.\n",
      "Using up to 11 threads (change this with --threads).\n",
      "490 samples (0 females, 0 males, 490 ambiguous; 490 founders) loaded from\n",
      "data/merged_17.fam.\n",
      "184770 variants loaded from data/merged_17.bim.\n",
      "Note: No phenotype data present.\n"
     ]
    },
    {
     "name": "stderr",
     "output_type": "stream",
     "text": [
      "Warning: 78517 top variant IDs in --clump file missing from main dataset.  IDs\n",
      "written to temp_dir/prs_gwas/merged_17.clumps.missing_id .\n"
     ]
    },
    {
     "name": "stdout",
     "output_type": "stream",
     "text": [
      "--clump: 4976 clumps formed from 7688 index candidates.  \n",
      "Results written to temp_dir/prs_gwas/merged_17.clumps .\n",
      "End time: Thu Dec  5 00:49:25 2024\n"
     ]
    }
   ],
   "source": [
    "%%bash\n",
    "./plink2 \\\n",
    "    --bfile data/merged_17 \\\n",
    "    --clump-p1 0.01 \\\n",
    "    --clump-r2 0.01 \\\n",
    "    --clump-kb 250 \\\n",
    "    --clump temp_dir/prs_gwas/Height.QC.Transformed \\\n",
    "    --clump-snp-field SNP \\\n",
    "    --clump-field P \\\n",
    "    --out temp_dir/prs_gwas/merged_17"
   ]
  },
  {
   "cell_type": "code",
   "execution_count": 46,
   "id": "b806cd23",
   "metadata": {},
   "outputs": [],
   "source": [
    "%%bash\n",
    "awk 'NR!=1{print $3}' temp_dir/prs_gwas/merged_17.clumps >  temp_dir/prs_gwas/merged_17.valid.snp\n",
    "awk '{print $3,$8}' temp_dir/prs_gwas/Height.QC.Transformed > temp_dir/prs_gwas/SNP.pvalue\n",
    "echo \"0.1 0 0.1\" >> temp_dir/prs_gwas/range_list"
   ]
  },
  {
   "cell_type": "code",
   "execution_count": 47,
   "id": "1ccd0e00",
   "metadata": {},
   "outputs": [
    {
     "name": "stdout",
     "output_type": "stream",
     "text": [
      "PLINK v2.0.0-a.6.3 M1 (3 Dec 2024)                 cog-genomics.org/plink/2.0/\n",
      "(C) 2005-2024 Shaun Purcell, Christopher Chang   GNU General Public License v3\n",
      "Logging to result/prs_gwas/merged_17.log.\n",
      "Options in effect:\n",
      "  --bfile data/merged_17\n",
      "  --extract temp_dir/prs_gwas/merged_17.valid.snp\n",
      "  --out result/prs_gwas/merged_17\n",
      "  --q-score-range temp_dir/prs_gwas/range_list temp_dir/prs_gwas/SNP.pvalue\n",
      "  --score temp_dir/prs_gwas/Height.QC.Transformed 3 4 12 header\n",
      "\n",
      "Start time: Thu Dec  5 00:49:27 2024\n",
      "18432 MiB RAM detected; reserving 9216 MiB for main workspace.\n",
      "Using up to 11 threads (change this with --threads).\n",
      "490 samples (0 females, 0 males, 490 ambiguous; 490 founders) loaded from\n",
      "data/merged_17.fam.\n",
      "184770 variants loaded from data/merged_17.bim.\n",
      "Note: No phenotype data present.\n",
      "--extract: 4976 variants remaining.\n",
      "Calculating allele frequencies... 4680done.\n",
      "4976 variants remaining after main filters.\n",
      "--q-score-range: 1 range and 4976 variants loaded.\n"
     ]
    },
    {
     "name": "stderr",
     "output_type": "stream",
     "text": [
      "Warning: 524529 lines skipped in --q-score-range data file.\n",
      "Warning: --score: 524528 entries in temp_dir/prs_gwas/Height.QC.Transformed\n",
      "were skipped due to missing variant IDs.\n",
      "(Add the 'list-variants' modifier to see which variants were actually used for\n",
      "scoring.)\n"
     ]
    },
    {
     "name": "stdout",
     "output_type": "stream",
     "text": [
      "--score: 4976 variants processed.\n",
      "--score + --q-score-range: Results written to result/prs_gwas/merged_17.<range\n",
      "name>.sscore .\n",
      "End time: Thu Dec  5 00:49:27 2024\n"
     ]
    }
   ],
   "source": [
    "%%bash\n",
    "./plink2 \\\n",
    "    --bfile data/merged_17 \\\n",
    "    --score temp_dir/prs_gwas/Height.QC.Transformed 3 4 12 header \\\n",
    "    --q-score-range temp_dir/prs_gwas/range_list temp_dir/prs_gwas/SNP.pvalue \\\n",
    "    --extract temp_dir/prs_gwas/merged_17.valid.snp \\\n",
    "    --out result/prs_gwas/merged_17"
   ]
  },
  {
   "cell_type": "code",
   "execution_count": 48,
   "id": "a566781b",
   "metadata": {},
   "outputs": [
    {
     "data": {
      "image/png": "[encoded data removed]",
      "text/plain": [
       "<Figure size 640x480 with 1 Axes>"
      ]
     },
     "metadata": {},
     "output_type": "display_data"
    }
   ],
   "source": [
    "t5 = pd.read_csv('result/prs_gwas/merged_17.0.1.sscore', sep='\\t')\n",
    "t5[t5['IID'] == 'tiffany']['SCORE1_AVG'].iloc[0]\n",
    "plt.hist(t5['SCORE1_AVG'], bins=30);\n",
    "plt.axvline(x=t5[t5['IID'] == 'tiffany']['SCORE1_AVG'].iloc[0], c='red', label='tiffany');\n",
    "plt.legend();\n",
    "plt.xlabel('PRS value')\n",
    "plt.ylabel('Frequency')\n",
    "plt.title('Distribution of PRS for Height')\n",
    "plt.show()"
   ]
  },
  {
   "cell_type": "code",
   "execution_count": null,
   "id": "f9d989c7",
   "metadata": {},
   "outputs": [],
   "source": []
  }
 ],
 "metadata": {
  "kernelspec": {
   "display_name": "dsc180a",
   "language": "python",
   "name": "python3"
  },
  "language_info": {
   "codemirror_mode": {
    "name": "ipython",
    "version": 3
   },
   "file_extension": ".py",
   "mimetype": "text/x-python",
   "name": "python",
   "nbconvert_exporter": "python",
   "pygments_lexer": "ipython3",
   "version": "3.10.15"
  }
 },
 "nbformat": 4,
 "nbformat_minor": 5
}
